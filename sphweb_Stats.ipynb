{
 "cells": [
  {
   "cell_type": "code",
   "execution_count": null,
   "metadata": {
    "collapsed": true,
    "run_control": {
     "frozen": false,
     "read_only": false
    }
   },
   "outputs": [],
   "source": [
    "height <- c(58,59,60,61,62,63,64,65,66, 67, 68, 69, 70, 71, 72)\n",
    "weight <- c(115,117,120,123,126,129,132,135,139, 142, 146, 150, 154, 159, 164)"
   ]
  },
  {
   "cell_type": "code",
   "execution_count": null,
   "metadata": {
    "collapsed": true,
    "run_control": {
     "frozen": false,
     "read_only": false
    }
   },
   "outputs": [],
   "source": [
    "htwtmatrix = matrix(c(height,weight),15,2) # what do 15 and 2 refer to?"
   ]
  },
  {
   "cell_type": "code",
   "execution_count": null,
   "metadata": {
    "collapsed": false,
    "run_control": {
     "frozen": false,
     "read_only": false
    },
    "scrolled": false
   },
   "outputs": [],
   "source": [
    "print(htwtmatrix)\n",
    "dim(htwtmatrix)\n",
    "is.array(htwtmatrix)  \n",
    "# even its a matrix it will return TRUE, because matrix also a type of array in 2 dimentional \n"
   ]
  },
  {
   "cell_type": "code",
   "execution_count": null,
   "metadata": {
    "collapsed": false,
    "run_control": {
     "frozen": false,
     "read_only": false
    }
   },
   "outputs": [],
   "source": [
    "# to assign names for each column first convert it into a dataframe\n",
    "htwtdata = data.frame(htwtmatrix)  # as.dataframe is also works well here\n",
    "names(htwtdata) = c(\"height\", \"weight\")\n",
    "# here we used names() function to assign the names for our dataframe\n",
    "names(htwtdata)  # here we are extracting the names , names function can be used to set or get the names\n"
   ]
  },
  {
   "cell_type": "code",
   "execution_count": null,
   "metadata": {
    "collapsed": false,
    "hide_input": false,
    "run_control": {
     "frozen": false,
     "read_only": false
    },
    "scrolled": false
   },
   "outputs": [],
   "source": [
    "# Let us see how R operates on matrices, and how that compares to data frames\n",
    "htwtmatrix * 2  # multiplying with 2 gives us result of multiplication on each value \n",
    "htwtmatrix[, 1]/12  # convert height in inches to feet\n",
    "mean(htwtmatrix[, 2])  # find mean of weight"
   ]
  },
  {
   "cell_type": "code",
   "execution_count": null,
   "metadata": {
    "collapsed": false,
    "run_control": {
     "frozen": false,
     "read_only": false
    }
   },
   "outputs": [],
   "source": [
    "dim(htwtdata)\n",
    "nrow(htwtdata)\n",
    "str(htwtdata)\n",
    "summary(htwtdata)\n"
   ]
  },
  {
   "cell_type": "code",
   "execution_count": null,
   "metadata": {
    "collapsed": false
   },
   "outputs": [],
   "source": [
    "htwtdata[,2]*703/htwtdata[,1]^2"
   ]
  },
  {
   "cell_type": "code",
   "execution_count": null,
   "metadata": {
    "collapsed": false
   },
   "outputs": [],
   "source": [
    "# How would you get R to give you the height and weight of the 8th student in the\n",
    "# data set? The 8th and 10th student?\n",
    "names(htwtdata)\n",
    "htwtdata[8,1]  # 8th student height\n",
    "htwtdata[8,2]  #1 0th student height\n",
    "htwtdata[10,1]  # 10th student height \n",
    "htwtdata[10,2]  # 10th student weight\n",
    "head(htwtdata,10)         #check with head command"
   ]
  },
  {
   "cell_type": "markdown",
   "metadata": {},
   "source": [
    "# Loops \n",
    "## If/else statements\n",
    "\n",
    "In R, one can write a conditional statement as follows:  \n",
    "\n",
    "```R\n",
    "ifelse(condition on data, true value returned, false returned)\n",
    "```\n",
    "    \n",
    "\n",
    "\n",
    "The above expression reads: if condition on the data is true, then do the true value assigned; otherwise execute the \"false value.\"\n",
    "\n"
   ]
  },
  {
   "cell_type": "code",
   "execution_count": null,
   "metadata": {
    "collapsed": false
   },
   "outputs": [],
   "source": [
    "ifelse(3 > 4, x <- 5, x <- 6)\n",
    "print(x)\n",
    "\n",
    "ifelse(4 > 3, x <- 5, x <- 6)\n",
    "print(x)"
   ]
  },
  {
   "cell_type": "markdown",
   "metadata": {},
   "source": [
    "### Usage of operators like & & , | | , &, |"
   ]
  },
  {
   "cell_type": "code",
   "execution_count": null,
   "metadata": {
    "collapsed": false
   },
   "outputs": [],
   "source": [
    "hmean =  mean(htwtdata$height)\n",
    "wmean =  mean(htwtdata$weight)\n",
    "?cat \n",
    "cat(\"mean height=\",hmean,\"\\n\",\"mean weight=\",wmean)\n",
    "\n"
   ]
  },
  {
   "cell_type": "markdown",
   "metadata": {},
   "source": [
    "The operators && and || are often used to denote multiple conditions in an if statement. Whereas &(and) and |(or) apply element-wise to vectors, && and || apply to vectors of length one, and only evaluate their second argument in the sequence if necessary. Thus it is important to remember which logical operator to use in which situation.  "
   ]
  },
  {
   "cell_type": "code",
   "execution_count": null,
   "metadata": {
    "collapsed": false
   },
   "outputs": [],
   "source": [
    "ifelse( hmean > 61 && wmean > 120, x <- 5, x <- 6) # multiple conditions in an if statement"
   ]
  },
  {
   "cell_type": "code",
   "execution_count": null,
   "metadata": {
    "collapsed": false
   },
   "outputs": [],
   "source": [
    "htwt_cat<-ifelse (height>=70 | weight>159, \"high\", \"low\") # apply element-wise to vectors\n",
    "print(htwt_cat)\n",
    "is.vector(htwt_cat)\n"
   ]
  },
  {
   "cell_type": "code",
   "execution_count": null,
   "metadata": {
    "collapsed": false
   },
   "outputs": [],
   "source": [
    "#htwtdata1<-head(htwtdata,6)\n",
    "cbind(htwtdata[c(1:3,c(13:15)),],htwt_cat[c(1:3,c(13:15))])\n",
    "#print(htwtdata1[1:3])"
   ]
  },
  {
   "cell_type": "code",
   "execution_count": null,
   "metadata": {
    "collapsed": false
   },
   "outputs": [],
   "source": [
    "htwt_cat[1:6]"
   ]
  },
  {
   "cell_type": "code",
   "execution_count": null,
   "metadata": {
    "collapsed": false
   },
   "outputs": [],
   "source": [
    "htwt_cat <- ifelse(height > 67 || weight > 150, \"high\", \"low\")\n",
    "htwt_cat  \n",
    "# Notice that in the above ifelse statement only the first element in the series was computed.\n",
    "htwt_cat <- ifelse(height > 57 || weight > 110, \"high\", \"low\")\n",
    "htwt_cat"
   ]
  },
  {
   "cell_type": "code",
   "execution_count": null,
   "metadata": {
    "collapsed": false
   },
   "outputs": [],
   "source": [
    "#This can also be extended to include multiple conditions.  Suppose we have the following data:\n",
    "\n",
    "final_score<- c(39, 51, 60, 65, 72, 78, 79, 83, 85, 85, 87, 89, 91, 95, 96, 97, 100, 100)\n",
    "\n",
    "passfail<-ifelse(final_score>=60, \"pass\", \"fail\")\n",
    "passfail"
   ]
  },
  {
   "cell_type": "markdown",
   "metadata": {},
   "source": [
    "#Suppose we want to create a variable called grades that is assigned as follows:\n",
    "```R \n",
    "\"F\" if final_score <60\n",
    "\n",
    "\"D\" if 60≤final_score<70\n",
    "\n",
    "\"C\" if 70≤final_score<80\n",
    "\n",
    "\"B\" if 80≤final_score<90\n",
    "\n",
    "\"A\" if 90≤final_score \n",
    "```"
   ]
  },
  {
   "cell_type": "markdown",
   "metadata": {},
   "source": [
    "### Nested ifelse Statements\n",
    "\n",
    "We can use a \"nested\" ifelse command as follows:"
   ]
  },
  {
   "cell_type": "code",
   "execution_count": null,
   "metadata": {
    "collapsed": false
   },
   "outputs": [],
   "source": [
    "grade <- ifelse(final_score < 60, \"F\", ifelse(final_score < 70, \"D\", ifelse(final_score < \n",
    "    80, \"C\", ifelse(final_score < 90, \"B\", \"A\"))))\n",
    "\n",
    "grade"
   ]
  },
  {
   "cell_type": "markdown",
   "metadata": {},
   "source": [
    "The logic by which this will assign grades is depicted in the figure below.\n",
    "\n",
    "![Image of NestedIf](https://drive.google.com/uc?id=0B14DjwBCvz91d1k2a0l5X3ZHVDg)"
   ]
  },
  {
   "cell_type": "raw",
   "metadata": {},
   "source": [
    "#if we want to resize the image we can use the below code \n",
    "\n",
    "<a href=\"url\"><img src=\"https://drive.google.com/uc?id=0B14DjwBCvz91d1k2a0l5X3ZHVDg\" align=\"center\" height=\"548\" width=\"348\" ></a>"
   ]
  },
  {
   "cell_type": "markdown",
   "metadata": {},
   "source": [
    "### Repetitive Execution: \"for\" loops, \"repeat\" and \"while\"\n",
    "\n"
   ]
  }
 ],
 "metadata": {
  "anaconda-cloud": {},
  "kernelspec": {
   "display_name": "R [R-Env]",
   "language": "R",
   "name": "R [R-Env]"
  },
  "language_info": {
   "codemirror_mode": "r",
   "file_extension": ".r",
   "mimetype": "text/x-r-source",
   "name": "R",
   "pygments_lexer": "r",
   "version": "3.3.2"
  }
 },
 "nbformat": 4,
 "nbformat_minor": 0
}
