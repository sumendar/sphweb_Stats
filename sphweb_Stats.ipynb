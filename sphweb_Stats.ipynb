{
 "cells": [
  {
   "cell_type": "code",
   "execution_count": 152,
   "metadata": {
    "collapsed": true,
    "run_control": {
     "frozen": false,
     "read_only": false
    }
   },
   "outputs": [],
   "source": [
    "height <- c(58,59,60,61,62,63,64,65,66, 67, 68, 69, 70, 71, 72)\n",
    "weight <- c(115,117,120,123,126,129,132,135,139, 142, 146, 150, 154, 159, 164)"
   ]
  },
  {
   "cell_type": "code",
   "execution_count": 153,
   "metadata": {
    "collapsed": true,
    "run_control": {
     "frozen": false,
     "read_only": false
    }
   },
   "outputs": [],
   "source": [
    "htwtmatrix = matrix(c(height,weight),15,2) # what do 15 and 2 refer to?"
   ]
  },
  {
   "cell_type": "code",
   "execution_count": 154,
   "metadata": {
    "collapsed": false,
    "run_control": {
     "frozen": false,
     "read_only": false
    },
    "scrolled": false
   },
   "outputs": [
    {
     "name": "stdout",
     "output_type": "stream",
     "text": [
      "      [,1] [,2]\n",
      " [1,]   58  115\n",
      " [2,]   59  117\n",
      " [3,]   60  120\n",
      " [4,]   61  123\n",
      " [5,]   62  126\n",
      " [6,]   63  129\n",
      " [7,]   64  132\n",
      " [8,]   65  135\n",
      " [9,]   66  139\n",
      "[10,]   67  142\n",
      "[11,]   68  146\n",
      "[12,]   69  150\n",
      "[13,]   70  154\n",
      "[14,]   71  159\n",
      "[15,]   72  164\n"
     ]
    },
    {
     "data": {
      "text/html": [
       "<ol class=list-inline>\n",
       "\t<li>15</li>\n",
       "\t<li>2</li>\n",
       "</ol>\n"
      ],
      "text/latex": [
       "\\begin{enumerate*}\n",
       "\\item 15\n",
       "\\item 2\n",
       "\\end{enumerate*}\n"
      ],
      "text/markdown": [
       "1. 15\n",
       "2. 2\n",
       "\n",
       "\n"
      ],
      "text/plain": [
       "[1] 15  2"
      ]
     },
     "metadata": {},
     "output_type": "display_data"
    },
    {
     "data": {
      "text/html": [
       "TRUE"
      ],
      "text/latex": [
       "TRUE"
      ],
      "text/markdown": [
       "TRUE"
      ],
      "text/plain": [
       "[1] TRUE"
      ]
     },
     "metadata": {},
     "output_type": "display_data"
    }
   ],
   "source": [
    "print(htwtmatrix)\n",
    "dim(htwtmatrix)\n",
    "is.array(htwtmatrix)  \n",
    "# even its a matrix it will return TRUE, because matrix also a type of array in 2 dimentional \n"
   ]
  },
  {
   "cell_type": "code",
   "execution_count": 155,
   "metadata": {
    "collapsed": false,
    "run_control": {
     "frozen": false,
     "read_only": false
    }
   },
   "outputs": [
    {
     "data": {
      "text/html": [
       "<ol class=list-inline>\n",
       "\t<li>'height'</li>\n",
       "\t<li>'weight'</li>\n",
       "</ol>\n"
      ],
      "text/latex": [
       "\\begin{enumerate*}\n",
       "\\item 'height'\n",
       "\\item 'weight'\n",
       "\\end{enumerate*}\n"
      ],
      "text/markdown": [
       "1. 'height'\n",
       "2. 'weight'\n",
       "\n",
       "\n"
      ],
      "text/plain": [
       "[1] \"height\" \"weight\""
      ]
     },
     "metadata": {},
     "output_type": "display_data"
    }
   ],
   "source": [
    "# to assign names for each column first convert it into a dataframe\n",
    "htwtdata = data.frame(htwtmatrix)  # as.dataframe is also works well here\n",
    "names(htwtdata) = c(\"height\", \"weight\")\n",
    "# here we used names() function to assign the names for our dataframe\n",
    "names(htwtdata)  # here we are extracting the names , names function can be used to set or get the names\n"
   ]
  },
  {
   "cell_type": "code",
   "execution_count": 156,
   "metadata": {
    "collapsed": false,
    "hide_input": false,
    "run_control": {
     "frozen": false,
     "read_only": false
    },
    "scrolled": false
   },
   "outputs": [
    {
     "data": {
      "text/html": [
       "<table>\n",
       "<tbody>\n",
       "\t<tr><td>116</td><td>230</td></tr>\n",
       "\t<tr><td>118</td><td>234</td></tr>\n",
       "\t<tr><td>120</td><td>240</td></tr>\n",
       "\t<tr><td>122</td><td>246</td></tr>\n",
       "\t<tr><td>124</td><td>252</td></tr>\n",
       "\t<tr><td>126</td><td>258</td></tr>\n",
       "\t<tr><td>128</td><td>264</td></tr>\n",
       "\t<tr><td>130</td><td>270</td></tr>\n",
       "\t<tr><td>132</td><td>278</td></tr>\n",
       "\t<tr><td>134</td><td>284</td></tr>\n",
       "\t<tr><td>136</td><td>292</td></tr>\n",
       "\t<tr><td>138</td><td>300</td></tr>\n",
       "\t<tr><td>140</td><td>308</td></tr>\n",
       "\t<tr><td>142</td><td>318</td></tr>\n",
       "\t<tr><td>144</td><td>328</td></tr>\n",
       "</tbody>\n",
       "</table>\n"
      ],
      "text/latex": [
       "\\begin{tabular}{ll}\n",
       "\t 116 & 230\\\\\n",
       "\t 118 & 234\\\\\n",
       "\t 120 & 240\\\\\n",
       "\t 122 & 246\\\\\n",
       "\t 124 & 252\\\\\n",
       "\t 126 & 258\\\\\n",
       "\t 128 & 264\\\\\n",
       "\t 130 & 270\\\\\n",
       "\t 132 & 278\\\\\n",
       "\t 134 & 284\\\\\n",
       "\t 136 & 292\\\\\n",
       "\t 138 & 300\\\\\n",
       "\t 140 & 308\\\\\n",
       "\t 142 & 318\\\\\n",
       "\t 144 & 328\\\\\n",
       "\\end{tabular}\n"
      ],
      "text/markdown": [
       "\n",
       "| 116 | 230 | \n",
       "| 118 | 234 | \n",
       "| 120 | 240 | \n",
       "| 122 | 246 | \n",
       "| 124 | 252 | \n",
       "| 126 | 258 | \n",
       "| 128 | 264 | \n",
       "| 130 | 270 | \n",
       "| 132 | 278 | \n",
       "| 134 | 284 | \n",
       "| 136 | 292 | \n",
       "| 138 | 300 | \n",
       "| 140 | 308 | \n",
       "| 142 | 318 | \n",
       "| 144 | 328 | \n",
       "\n",
       "\n"
      ],
      "text/plain": [
       "      [,1] [,2]\n",
       " [1,] 116  230 \n",
       " [2,] 118  234 \n",
       " [3,] 120  240 \n",
       " [4,] 122  246 \n",
       " [5,] 124  252 \n",
       " [6,] 126  258 \n",
       " [7,] 128  264 \n",
       " [8,] 130  270 \n",
       " [9,] 132  278 \n",
       "[10,] 134  284 \n",
       "[11,] 136  292 \n",
       "[12,] 138  300 \n",
       "[13,] 140  308 \n",
       "[14,] 142  318 \n",
       "[15,] 144  328 "
      ]
     },
     "metadata": {},
     "output_type": "display_data"
    },
    {
     "data": {
      "text/html": [
       "<ol class=list-inline>\n",
       "\t<li>4.83333333333333</li>\n",
       "\t<li>4.91666666666667</li>\n",
       "\t<li>5</li>\n",
       "\t<li>5.08333333333333</li>\n",
       "\t<li>5.16666666666667</li>\n",
       "\t<li>5.25</li>\n",
       "\t<li>5.33333333333333</li>\n",
       "\t<li>5.41666666666667</li>\n",
       "\t<li>5.5</li>\n",
       "\t<li>5.58333333333333</li>\n",
       "\t<li>5.66666666666667</li>\n",
       "\t<li>5.75</li>\n",
       "\t<li>5.83333333333333</li>\n",
       "\t<li>5.91666666666667</li>\n",
       "\t<li>6</li>\n",
       "</ol>\n"
      ],
      "text/latex": [
       "\\begin{enumerate*}\n",
       "\\item 4.83333333333333\n",
       "\\item 4.91666666666667\n",
       "\\item 5\n",
       "\\item 5.08333333333333\n",
       "\\item 5.16666666666667\n",
       "\\item 5.25\n",
       "\\item 5.33333333333333\n",
       "\\item 5.41666666666667\n",
       "\\item 5.5\n",
       "\\item 5.58333333333333\n",
       "\\item 5.66666666666667\n",
       "\\item 5.75\n",
       "\\item 5.83333333333333\n",
       "\\item 5.91666666666667\n",
       "\\item 6\n",
       "\\end{enumerate*}\n"
      ],
      "text/markdown": [
       "1. 4.83333333333333\n",
       "2. 4.91666666666667\n",
       "3. 5\n",
       "4. 5.08333333333333\n",
       "5. 5.16666666666667\n",
       "6. 5.25\n",
       "7. 5.33333333333333\n",
       "8. 5.41666666666667\n",
       "9. 5.5\n",
       "10. 5.58333333333333\n",
       "11. 5.66666666666667\n",
       "12. 5.75\n",
       "13. 5.83333333333333\n",
       "14. 5.91666666666667\n",
       "15. 6\n",
       "\n",
       "\n"
      ],
      "text/plain": [
       " [1] 4.833333 4.916667 5.000000 5.083333 5.166667 5.250000 5.333333 5.416667\n",
       " [9] 5.500000 5.583333 5.666667 5.750000 5.833333 5.916667 6.000000"
      ]
     },
     "metadata": {},
     "output_type": "display_data"
    },
    {
     "data": {
      "text/html": [
       "136.733333333333"
      ],
      "text/latex": [
       "136.733333333333"
      ],
      "text/markdown": [
       "136.733333333333"
      ],
      "text/plain": [
       "[1] 136.7333"
      ]
     },
     "metadata": {},
     "output_type": "display_data"
    }
   ],
   "source": [
    "# Let us see how R operates on matrices, and how that compares to data frames\n",
    "htwtmatrix * 2  # multiplying with 2 gives us result of multiplication on each value \n",
    "htwtmatrix[, 1]/12  # convert height in inches to feet\n",
    "mean(htwtmatrix[, 2])  # find mean of weight"
   ]
  },
  {
   "cell_type": "code",
   "execution_count": 157,
   "metadata": {
    "collapsed": false,
    "run_control": {
     "frozen": false,
     "read_only": false
    }
   },
   "outputs": [
    {
     "data": {
      "text/html": [
       "<ol class=list-inline>\n",
       "\t<li>15</li>\n",
       "\t<li>2</li>\n",
       "</ol>\n"
      ],
      "text/latex": [
       "\\begin{enumerate*}\n",
       "\\item 15\n",
       "\\item 2\n",
       "\\end{enumerate*}\n"
      ],
      "text/markdown": [
       "1. 15\n",
       "2. 2\n",
       "\n",
       "\n"
      ],
      "text/plain": [
       "[1] 15  2"
      ]
     },
     "metadata": {},
     "output_type": "display_data"
    },
    {
     "data": {
      "text/html": [
       "15"
      ],
      "text/latex": [
       "15"
      ],
      "text/markdown": [
       "15"
      ],
      "text/plain": [
       "[1] 15"
      ]
     },
     "metadata": {},
     "output_type": "display_data"
    },
    {
     "name": "stdout",
     "output_type": "stream",
     "text": [
      "'data.frame':\t15 obs. of  2 variables:\n",
      " $ height: num  58 59 60 61 62 63 64 65 66 67 ...\n",
      " $ weight: num  115 117 120 123 126 129 132 135 139 142 ...\n"
     ]
    },
    {
     "data": {
      "text/plain": [
       "     height         weight     \n",
       " Min.   :58.0   Min.   :115.0  \n",
       " 1st Qu.:61.5   1st Qu.:124.5  \n",
       " Median :65.0   Median :135.0  \n",
       " Mean   :65.0   Mean   :136.7  \n",
       " 3rd Qu.:68.5   3rd Qu.:148.0  \n",
       " Max.   :72.0   Max.   :164.0  "
      ]
     },
     "metadata": {},
     "output_type": "display_data"
    }
   ],
   "source": [
    "dim(htwtdata)\n",
    "nrow(htwtdata)\n",
    "str(htwtdata)\n",
    "summary(htwtdata)\n"
   ]
  },
  {
   "cell_type": "code",
   "execution_count": 158,
   "metadata": {
    "collapsed": false,
    "run_control": {
     "frozen": false,
     "read_only": false
    }
   },
   "outputs": [
    {
     "data": {
      "text/html": [
       "<ol class=list-inline>\n",
       "\t<li>24.032401902497</li>\n",
       "\t<li>23.6285550129273</li>\n",
       "\t<li>23.4333333333333</li>\n",
       "\t<li>23.2381080354743</li>\n",
       "\t<li>23.0431841831426</li>\n",
       "\t<li>22.848828420257</li>\n",
       "\t<li>22.6552734375</li>\n",
       "\t<li>22.4627218934911</li>\n",
       "\t<li>22.4327364554637</li>\n",
       "\t<li>22.2379149030965</li>\n",
       "\t<li>22.1967993079585</li>\n",
       "\t<li>22.1487082545684</li>\n",
       "\t<li>22.0942857142857</li>\n",
       "\t<li>22.1735766712954</li>\n",
       "\t<li>22.2399691358025</li>\n",
       "</ol>\n"
      ],
      "text/latex": [
       "\\begin{enumerate*}\n",
       "\\item 24.032401902497\n",
       "\\item 23.6285550129273\n",
       "\\item 23.4333333333333\n",
       "\\item 23.2381080354743\n",
       "\\item 23.0431841831426\n",
       "\\item 22.848828420257\n",
       "\\item 22.6552734375\n",
       "\\item 22.4627218934911\n",
       "\\item 22.4327364554637\n",
       "\\item 22.2379149030965\n",
       "\\item 22.1967993079585\n",
       "\\item 22.1487082545684\n",
       "\\item 22.0942857142857\n",
       "\\item 22.1735766712954\n",
       "\\item 22.2399691358025\n",
       "\\end{enumerate*}\n"
      ],
      "text/markdown": [
       "1. 24.032401902497\n",
       "2. 23.6285550129273\n",
       "3. 23.4333333333333\n",
       "4. 23.2381080354743\n",
       "5. 23.0431841831426\n",
       "6. 22.848828420257\n",
       "7. 22.6552734375\n",
       "8. 22.4627218934911\n",
       "9. 22.4327364554637\n",
       "10. 22.2379149030965\n",
       "11. 22.1967993079585\n",
       "12. 22.1487082545684\n",
       "13. 22.0942857142857\n",
       "14. 22.1735766712954\n",
       "15. 22.2399691358025\n",
       "\n",
       "\n"
      ],
      "text/plain": [
       " [1] 24.03240 23.62856 23.43333 23.23811 23.04318 22.84883 22.65527 22.46272\n",
       " [9] 22.43274 22.23791 22.19680 22.14871 22.09429 22.17358 22.23997"
      ]
     },
     "metadata": {},
     "output_type": "display_data"
    }
   ],
   "source": [
    "htwtdata[,2]*703/htwtdata[,1]^2"
   ]
  },
  {
   "cell_type": "code",
   "execution_count": 159,
   "metadata": {
    "collapsed": false,
    "run_control": {
     "frozen": false,
     "read_only": false
    }
   },
   "outputs": [
    {
     "data": {
      "text/html": [
       "<ol class=list-inline>\n",
       "\t<li>'height'</li>\n",
       "\t<li>'weight'</li>\n",
       "</ol>\n"
      ],
      "text/latex": [
       "\\begin{enumerate*}\n",
       "\\item 'height'\n",
       "\\item 'weight'\n",
       "\\end{enumerate*}\n"
      ],
      "text/markdown": [
       "1. 'height'\n",
       "2. 'weight'\n",
       "\n",
       "\n"
      ],
      "text/plain": [
       "[1] \"height\" \"weight\""
      ]
     },
     "metadata": {},
     "output_type": "display_data"
    },
    {
     "data": {
      "text/html": [
       "65"
      ],
      "text/latex": [
       "65"
      ],
      "text/markdown": [
       "65"
      ],
      "text/plain": [
       "[1] 65"
      ]
     },
     "metadata": {},
     "output_type": "display_data"
    },
    {
     "data": {
      "text/html": [
       "135"
      ],
      "text/latex": [
       "135"
      ],
      "text/markdown": [
       "135"
      ],
      "text/plain": [
       "[1] 135"
      ]
     },
     "metadata": {},
     "output_type": "display_data"
    },
    {
     "data": {
      "text/html": [
       "67"
      ],
      "text/latex": [
       "67"
      ],
      "text/markdown": [
       "67"
      ],
      "text/plain": [
       "[1] 67"
      ]
     },
     "metadata": {},
     "output_type": "display_data"
    },
    {
     "data": {
      "text/html": [
       "142"
      ],
      "text/latex": [
       "142"
      ],
      "text/markdown": [
       "142"
      ],
      "text/plain": [
       "[1] 142"
      ]
     },
     "metadata": {},
     "output_type": "display_data"
    },
    {
     "data": {
      "text/html": [
       "<table>\n",
       "<thead><tr><th scope=col>height</th><th scope=col>weight</th></tr></thead>\n",
       "<tbody>\n",
       "\t<tr><td>58 </td><td>115</td></tr>\n",
       "\t<tr><td>59 </td><td>117</td></tr>\n",
       "\t<tr><td>60 </td><td>120</td></tr>\n",
       "\t<tr><td>61 </td><td>123</td></tr>\n",
       "\t<tr><td>62 </td><td>126</td></tr>\n",
       "\t<tr><td>63 </td><td>129</td></tr>\n",
       "\t<tr><td>64 </td><td>132</td></tr>\n",
       "\t<tr><td>65 </td><td>135</td></tr>\n",
       "\t<tr><td>66 </td><td>139</td></tr>\n",
       "\t<tr><td>67 </td><td>142</td></tr>\n",
       "</tbody>\n",
       "</table>\n"
      ],
      "text/latex": [
       "\\begin{tabular}{r|ll}\n",
       " height & weight\\\\\n",
       "\\hline\n",
       "\t 58  & 115\\\\\n",
       "\t 59  & 117\\\\\n",
       "\t 60  & 120\\\\\n",
       "\t 61  & 123\\\\\n",
       "\t 62  & 126\\\\\n",
       "\t 63  & 129\\\\\n",
       "\t 64  & 132\\\\\n",
       "\t 65  & 135\\\\\n",
       "\t 66  & 139\\\\\n",
       "\t 67  & 142\\\\\n",
       "\\end{tabular}\n"
      ],
      "text/markdown": [
       "\n",
       "height | weight | \n",
       "|---|---|---|---|---|---|---|---|---|---|\n",
       "| 58  | 115 | \n",
       "| 59  | 117 | \n",
       "| 60  | 120 | \n",
       "| 61  | 123 | \n",
       "| 62  | 126 | \n",
       "| 63  | 129 | \n",
       "| 64  | 132 | \n",
       "| 65  | 135 | \n",
       "| 66  | 139 | \n",
       "| 67  | 142 | \n",
       "\n",
       "\n"
      ],
      "text/plain": [
       "   height weight\n",
       "1  58     115   \n",
       "2  59     117   \n",
       "3  60     120   \n",
       "4  61     123   \n",
       "5  62     126   \n",
       "6  63     129   \n",
       "7  64     132   \n",
       "8  65     135   \n",
       "9  66     139   \n",
       "10 67     142   "
      ]
     },
     "metadata": {},
     "output_type": "display_data"
    }
   ],
   "source": [
    "# How would you get R to give you the height and weight of the 8th student in the\n",
    "# data set? The 8th and 10th student?\n",
    "names(htwtdata)\n",
    "htwtdata[8,1]  # 8th student height\n",
    "htwtdata[8,2]  #1 0th student height\n",
    "htwtdata[10,1]  # 10th student height \n",
    "htwtdata[10,2]  # 10th student weight\n",
    "head(htwtdata,10)         #check with head command"
   ]
  },
  {
   "cell_type": "markdown",
   "metadata": {},
   "source": [
    "# Loops \n",
    "## If/else statements\n",
    "\n",
    "In R, one can write a conditional statement as follows:  \n",
    "\n",
    "```R\n",
    "ifelse(condition on data, true value returned, false returned)\n",
    "```\n",
    "    \n",
    "\n",
    "\n",
    "The above expression reads: if condition on the data is true, then do the true value assigned; otherwise execute the \"false value.\"\n",
    "\n"
   ]
  },
  {
   "cell_type": "code",
   "execution_count": 160,
   "metadata": {
    "collapsed": false,
    "run_control": {
     "frozen": false,
     "read_only": false
    }
   },
   "outputs": [
    {
     "data": {
      "text/html": [
       "6"
      ],
      "text/latex": [
       "6"
      ],
      "text/markdown": [
       "6"
      ],
      "text/plain": [
       "[1] 6"
      ]
     },
     "metadata": {},
     "output_type": "display_data"
    },
    {
     "name": "stdout",
     "output_type": "stream",
     "text": [
      "[1] 6\n"
     ]
    },
    {
     "data": {
      "text/html": [
       "5"
      ],
      "text/latex": [
       "5"
      ],
      "text/markdown": [
       "5"
      ],
      "text/plain": [
       "[1] 5"
      ]
     },
     "metadata": {},
     "output_type": "display_data"
    },
    {
     "name": "stdout",
     "output_type": "stream",
     "text": [
      "[1] 5\n"
     ]
    }
   ],
   "source": [
    "ifelse(3 > 4, x <- 5, x <- 6)\n",
    "print(x)\n",
    "\n",
    "ifelse(4 > 3, x <- 5, x <- 6)\n",
    "print(x)"
   ]
  },
  {
   "cell_type": "markdown",
   "metadata": {},
   "source": [
    "### Usage of operators like & & , | | , &, |"
   ]
  },
  {
   "cell_type": "code",
   "execution_count": 161,
   "metadata": {
    "collapsed": false,
    "run_control": {
     "frozen": false,
     "read_only": false
    }
   },
   "outputs": [
    {
     "name": "stdout",
     "output_type": "stream",
     "text": [
      "mean height= 65 \n",
      " mean weight= 136.7333"
     ]
    }
   ],
   "source": [
    "hmean =  mean(htwtdata$height)\n",
    "wmean =  mean(htwtdata$weight)\n",
    "?cat \n",
    "cat(\"mean height=\",hmean,\"\\n\",\"mean weight=\",wmean)\n",
    "\n"
   ]
  },
  {
   "cell_type": "markdown",
   "metadata": {},
   "source": [
    "The operators && and || are often used to denote multiple conditions in an if statement. Whereas &(and) and |(or) apply element-wise to vectors, && and || apply to vectors of length one, and only evaluate their second argument in the sequence if necessary. Thus it is important to remember which logical operator to use in which situation.  "
   ]
  },
  {
   "cell_type": "code",
   "execution_count": 162,
   "metadata": {
    "collapsed": false,
    "run_control": {
     "frozen": false,
     "read_only": false
    }
   },
   "outputs": [
    {
     "data": {
      "text/html": [
       "5"
      ],
      "text/latex": [
       "5"
      ],
      "text/markdown": [
       "5"
      ],
      "text/plain": [
       "[1] 5"
      ]
     },
     "metadata": {},
     "output_type": "display_data"
    }
   ],
   "source": [
    "ifelse( hmean > 61 && wmean > 120, x <- 5, x <- 6) # multiple conditions in an if statement"
   ]
  },
  {
   "cell_type": "code",
   "execution_count": 163,
   "metadata": {
    "collapsed": false,
    "run_control": {
     "frozen": false,
     "read_only": false
    }
   },
   "outputs": [
    {
     "name": "stdout",
     "output_type": "stream",
     "text": [
      " [1] \"low\"  \"low\"  \"low\"  \"low\"  \"low\"  \"low\"  \"low\"  \"low\"  \"low\"  \"low\" \n",
      "[11] \"low\"  \"low\"  \"high\" \"high\" \"high\"\n"
     ]
    },
    {
     "data": {
      "text/html": [
       "TRUE"
      ],
      "text/latex": [
       "TRUE"
      ],
      "text/markdown": [
       "TRUE"
      ],
      "text/plain": [
       "[1] TRUE"
      ]
     },
     "metadata": {},
     "output_type": "display_data"
    }
   ],
   "source": [
    "htwt_cat<-ifelse (height>=70 | weight>159, \"high\", \"low\") # apply element-wise to vectors\n",
    "print(htwt_cat)\n",
    "is.vector(htwt_cat)\n"
   ]
  },
  {
   "cell_type": "code",
   "execution_count": 164,
   "metadata": {
    "collapsed": false,
    "run_control": {
     "frozen": false,
     "read_only": false
    }
   },
   "outputs": [
    {
     "data": {
      "text/html": [
       "<table>\n",
       "<thead><tr><th></th><th scope=col>height</th><th scope=col>weight</th><th scope=col>htwt_cat[c(1:3, c(13:15))]</th></tr></thead>\n",
       "<tbody>\n",
       "\t<tr><th scope=row>1</th><td>58  </td><td>115 </td><td>low </td></tr>\n",
       "\t<tr><th scope=row>2</th><td>59  </td><td>117 </td><td>low </td></tr>\n",
       "\t<tr><th scope=row>3</th><td>60  </td><td>120 </td><td>low </td></tr>\n",
       "\t<tr><th scope=row>13</th><td>70  </td><td>154 </td><td>high</td></tr>\n",
       "\t<tr><th scope=row>14</th><td>71  </td><td>159 </td><td>high</td></tr>\n",
       "\t<tr><th scope=row>15</th><td>72  </td><td>164 </td><td>high</td></tr>\n",
       "</tbody>\n",
       "</table>\n"
      ],
      "text/latex": [
       "\\begin{tabular}{r|lll}\n",
       "  & height & weight & htwt\\_cat{[}c(1:3, c(13:15)){]}\\\\\n",
       "\\hline\n",
       "\t1 & 58   & 115  & low \\\\\n",
       "\t2 & 59   & 117  & low \\\\\n",
       "\t3 & 60   & 120  & low \\\\\n",
       "\t13 & 70   & 154  & high\\\\\n",
       "\t14 & 71   & 159  & high\\\\\n",
       "\t15 & 72   & 164  & high\\\\\n",
       "\\end{tabular}\n"
      ],
      "text/markdown": [
       "\n",
       "| <!--/--> | height | weight | htwt_cat[c(1:3, c(13:15))] | \n",
       "|---|---|---|---|---|---|\n",
       "| 1 | 58   | 115  | low  | \n",
       "| 2 | 59   | 117  | low  | \n",
       "| 3 | 60   | 120  | low  | \n",
       "| 13 | 70   | 154  | high | \n",
       "| 14 | 71   | 159  | high | \n",
       "| 15 | 72   | 164  | high | \n",
       "\n",
       "\n"
      ],
      "text/plain": [
       "   height weight htwt_cat[c(1:3, c(13:15))]\n",
       "1  58     115    low                       \n",
       "2  59     117    low                       \n",
       "3  60     120    low                       \n",
       "13 70     154    high                      \n",
       "14 71     159    high                      \n",
       "15 72     164    high                      "
      ]
     },
     "metadata": {},
     "output_type": "display_data"
    }
   ],
   "source": [
    "#htwtdata1<-head(htwtdata,6)\n",
    "cbind(htwtdata[c(1:3,c(13:15)),],htwt_cat[c(1:3,c(13:15))])\n",
    "#print(htwtdata1[1:3])"
   ]
  },
  {
   "cell_type": "code",
   "execution_count": 165,
   "metadata": {
    "collapsed": false,
    "run_control": {
     "frozen": false,
     "read_only": false
    }
   },
   "outputs": [
    {
     "data": {
      "text/html": [
       "<ol class=list-inline>\n",
       "\t<li>'low'</li>\n",
       "\t<li>'low'</li>\n",
       "\t<li>'low'</li>\n",
       "\t<li>'low'</li>\n",
       "\t<li>'low'</li>\n",
       "\t<li>'low'</li>\n",
       "</ol>\n"
      ],
      "text/latex": [
       "\\begin{enumerate*}\n",
       "\\item 'low'\n",
       "\\item 'low'\n",
       "\\item 'low'\n",
       "\\item 'low'\n",
       "\\item 'low'\n",
       "\\item 'low'\n",
       "\\end{enumerate*}\n"
      ],
      "text/markdown": [
       "1. 'low'\n",
       "2. 'low'\n",
       "3. 'low'\n",
       "4. 'low'\n",
       "5. 'low'\n",
       "6. 'low'\n",
       "\n",
       "\n"
      ],
      "text/plain": [
       "[1] \"low\" \"low\" \"low\" \"low\" \"low\" \"low\""
      ]
     },
     "metadata": {},
     "output_type": "display_data"
    }
   ],
   "source": [
    "htwt_cat[1:6]"
   ]
  },
  {
   "cell_type": "code",
   "execution_count": 166,
   "metadata": {
    "collapsed": false,
    "run_control": {
     "frozen": false,
     "read_only": false
    }
   },
   "outputs": [
    {
     "data": {
      "text/html": [
       "'low'"
      ],
      "text/latex": [
       "'low'"
      ],
      "text/markdown": [
       "'low'"
      ],
      "text/plain": [
       "[1] \"low\""
      ]
     },
     "metadata": {},
     "output_type": "display_data"
    },
    {
     "data": {
      "text/html": [
       "'high'"
      ],
      "text/latex": [
       "'high'"
      ],
      "text/markdown": [
       "'high'"
      ],
      "text/plain": [
       "[1] \"high\""
      ]
     },
     "metadata": {},
     "output_type": "display_data"
    }
   ],
   "source": [
    "htwt_cat <- ifelse(height > 67 || weight > 150, \"high\", \"low\")\n",
    "htwt_cat  \n",
    "# Notice that in the above ifelse statement only the first element in the series was computed.\n",
    "htwt_cat <- ifelse(height > 57 || weight > 110, \"high\", \"low\")\n",
    "htwt_cat"
   ]
  },
  {
   "cell_type": "code",
   "execution_count": 167,
   "metadata": {
    "collapsed": false,
    "run_control": {
     "frozen": false,
     "read_only": false
    }
   },
   "outputs": [
    {
     "data": {
      "text/html": [
       "<ol class=list-inline>\n",
       "\t<li>'fail'</li>\n",
       "\t<li>'fail'</li>\n",
       "\t<li>'pass'</li>\n",
       "\t<li>'pass'</li>\n",
       "\t<li>'pass'</li>\n",
       "\t<li>'pass'</li>\n",
       "\t<li>'pass'</li>\n",
       "\t<li>'pass'</li>\n",
       "\t<li>'pass'</li>\n",
       "\t<li>'pass'</li>\n",
       "\t<li>'pass'</li>\n",
       "\t<li>'pass'</li>\n",
       "\t<li>'pass'</li>\n",
       "\t<li>'pass'</li>\n",
       "\t<li>'pass'</li>\n",
       "\t<li>'pass'</li>\n",
       "\t<li>'pass'</li>\n",
       "\t<li>'pass'</li>\n",
       "</ol>\n"
      ],
      "text/latex": [
       "\\begin{enumerate*}\n",
       "\\item 'fail'\n",
       "\\item 'fail'\n",
       "\\item 'pass'\n",
       "\\item 'pass'\n",
       "\\item 'pass'\n",
       "\\item 'pass'\n",
       "\\item 'pass'\n",
       "\\item 'pass'\n",
       "\\item 'pass'\n",
       "\\item 'pass'\n",
       "\\item 'pass'\n",
       "\\item 'pass'\n",
       "\\item 'pass'\n",
       "\\item 'pass'\n",
       "\\item 'pass'\n",
       "\\item 'pass'\n",
       "\\item 'pass'\n",
       "\\item 'pass'\n",
       "\\end{enumerate*}\n"
      ],
      "text/markdown": [
       "1. 'fail'\n",
       "2. 'fail'\n",
       "3. 'pass'\n",
       "4. 'pass'\n",
       "5. 'pass'\n",
       "6. 'pass'\n",
       "7. 'pass'\n",
       "8. 'pass'\n",
       "9. 'pass'\n",
       "10. 'pass'\n",
       "11. 'pass'\n",
       "12. 'pass'\n",
       "13. 'pass'\n",
       "14. 'pass'\n",
       "15. 'pass'\n",
       "16. 'pass'\n",
       "17. 'pass'\n",
       "18. 'pass'\n",
       "\n",
       "\n"
      ],
      "text/plain": [
       " [1] \"fail\" \"fail\" \"pass\" \"pass\" \"pass\" \"pass\" \"pass\" \"pass\" \"pass\" \"pass\"\n",
       "[11] \"pass\" \"pass\" \"pass\" \"pass\" \"pass\" \"pass\" \"pass\" \"pass\""
      ]
     },
     "metadata": {},
     "output_type": "display_data"
    }
   ],
   "source": [
    "#This can also be extended to include multiple conditions.  Suppose we have the following data:\n",
    "\n",
    "final_score<- c(39, 51, 60, 65, 72, 78, 79, 83, 85, 85, 87, 89, 91, 95, 96, 97, 100, 100)\n",
    "\n",
    "passfail<-ifelse(final_score>=60, \"pass\", \"fail\")\n",
    "passfail"
   ]
  },
  {
   "cell_type": "markdown",
   "metadata": {},
   "source": [
    "#Suppose we want to create a variable called grades that is assigned as follows:\n",
    "```R \n",
    "\"F\" if final_score <60\n",
    "\n",
    "\"D\" if 60≤final_score<70\n",
    "\n",
    "\"C\" if 70≤final_score<80\n",
    "\n",
    "\"B\" if 80≤final_score<90\n",
    "\n",
    "\"A\" if 90≤final_score \n",
    "```"
   ]
  },
  {
   "cell_type": "markdown",
   "metadata": {},
   "source": [
    "### Nested ifelse Statements\n",
    "\n",
    "We can use a \"nested\" ifelse command as follows:"
   ]
  },
  {
   "cell_type": "code",
   "execution_count": 168,
   "metadata": {
    "collapsed": false,
    "run_control": {
     "frozen": false,
     "read_only": false
    }
   },
   "outputs": [
    {
     "data": {
      "text/html": [
       "<ol class=list-inline>\n",
       "\t<li>'F'</li>\n",
       "\t<li>'F'</li>\n",
       "\t<li>'D'</li>\n",
       "\t<li>'D'</li>\n",
       "\t<li>'C'</li>\n",
       "\t<li>'C'</li>\n",
       "\t<li>'C'</li>\n",
       "\t<li>'B'</li>\n",
       "\t<li>'B'</li>\n",
       "\t<li>'B'</li>\n",
       "\t<li>'B'</li>\n",
       "\t<li>'B'</li>\n",
       "\t<li>'A'</li>\n",
       "\t<li>'A'</li>\n",
       "\t<li>'A'</li>\n",
       "\t<li>'A'</li>\n",
       "\t<li>'A'</li>\n",
       "\t<li>'A'</li>\n",
       "</ol>\n"
      ],
      "text/latex": [
       "\\begin{enumerate*}\n",
       "\\item 'F'\n",
       "\\item 'F'\n",
       "\\item 'D'\n",
       "\\item 'D'\n",
       "\\item 'C'\n",
       "\\item 'C'\n",
       "\\item 'C'\n",
       "\\item 'B'\n",
       "\\item 'B'\n",
       "\\item 'B'\n",
       "\\item 'B'\n",
       "\\item 'B'\n",
       "\\item 'A'\n",
       "\\item 'A'\n",
       "\\item 'A'\n",
       "\\item 'A'\n",
       "\\item 'A'\n",
       "\\item 'A'\n",
       "\\end{enumerate*}\n"
      ],
      "text/markdown": [
       "1. 'F'\n",
       "2. 'F'\n",
       "3. 'D'\n",
       "4. 'D'\n",
       "5. 'C'\n",
       "6. 'C'\n",
       "7. 'C'\n",
       "8. 'B'\n",
       "9. 'B'\n",
       "10. 'B'\n",
       "11. 'B'\n",
       "12. 'B'\n",
       "13. 'A'\n",
       "14. 'A'\n",
       "15. 'A'\n",
       "16. 'A'\n",
       "17. 'A'\n",
       "18. 'A'\n",
       "\n",
       "\n"
      ],
      "text/plain": [
       " [1] \"F\" \"F\" \"D\" \"D\" \"C\" \"C\" \"C\" \"B\" \"B\" \"B\" \"B\" \"B\" \"A\" \"A\" \"A\" \"A\" \"A\" \"A\""
      ]
     },
     "metadata": {},
     "output_type": "display_data"
    }
   ],
   "source": [
    "grade <- ifelse(final_score < 60, \"F\", ifelse(final_score < 70, \"D\", ifelse(final_score < \n",
    "    80, \"C\", ifelse(final_score < 90, \"B\", \"A\"))))\n",
    "\n",
    "grade"
   ]
  },
  {
   "cell_type": "markdown",
   "metadata": {},
   "source": [
    "The logic by which this will assign grades is depicted in the figure below.\n",
    "\n",
    "![Image of NestedIf](https://drive.google.com/uc?id=0B14DjwBCvz91d1k2a0l5X3ZHVDg)"
   ]
  },
  {
   "cell_type": "raw",
   "metadata": {},
   "source": [
    "#if we want to resize the image we can use the below code \n",
    "\n",
    "<a href=\"url\"><img src=\"https://drive.google.com/uc?id=0B14DjwBCvz91d1k2a0l5X3ZHVDg\" align=\"center\" height=\"548\" width=\"348\" ></a>"
   ]
  },
  {
   "cell_type": "markdown",
   "metadata": {},
   "source": [
    "### Repetitive Execution: \"for\" loops, \"repeat\" and \"while\"\n",
    "\n",
    "syntax of for loop is:  \n",
    "```R\n",
    "for (name in expr_1) expr_2\n",
    "```\n",
    "here name is the loop variable, expr_1 is a vector expression, (often a sequence like 1:20), and expr_2 is often a grouped expression with its sub-expressions written in terms of the dummy name. expr_2 is repeatedly evaluated as name ranges through the values in the vector result of expr_1. \n",
    "\n",
    "\n",
    "\n"
   ]
  },
  {
   "cell_type": "code",
   "execution_count": 169,
   "metadata": {
    "collapsed": false
   },
   "outputs": [],
   "source": [
    "# let's take airquality dataset which is the Daily air quality measurements in\n",
    "# New York, May to September 1973. for the details use \n",
    "?airquality"
   ]
  },
  {
   "cell_type": "code",
   "execution_count": 170,
   "metadata": {
    "collapsed": false
   },
   "outputs": [
    {
     "name": "stdout",
     "output_type": "stream",
     "text": [
      "[1] 153\n"
     ]
    }
   ],
   "source": [
    "# we want to figure out which days were good air quality days (1) or bad air\n",
    "# quality (0), based on a cutoff of ozone levels above 60ppb.\n",
    "numdays <- nrow(airquality)\n",
    "print(numdays)"
   ]
  },
  {
   "cell_type": "code",
   "execution_count": 171,
   "metadata": {
    "collapsed": false
   },
   "outputs": [
    {
     "name": "stdout",
     "output_type": "stream",
     "text": [
      "  [1] 0 0 0 0 0 0 0 0 0 0 0 0 0 0 0 0 0 0 0 0 0 0 0 0 0 0 0 0 0 0 0 0 0 0 0 0 0\n",
      " [38] 0 0 0 0 0 0 0 0 0 0 0 0 0 0 0 0 0 0 0 0 0 0 0 0 0 0 0 0 0 0 0 0 0 0 0 0 0\n",
      " [75] 0 0 0 0 0 0 0 0 0 0 0 0 0 0 0 0 0 0 0 0 0 0 0 0 0 0 0 0 0 0 0 0 0 0 0 0 0\n",
      "[112] 0 0 0 0 0 0 0 0 0 0 0 0 0 0 0 0 0 0 0 0 0 0 0 0 0 0 0 0 0 0 0 0 0 0 0 0 0\n",
      "[149] 0 0 0 0 0\n"
     ]
    }
   ],
   "source": [
    "# creates an object which will store the vector\n",
    "goodair <- numeric(numdays)\n",
    "print(goodair)"
   ]
  },
  {
   "cell_type": "markdown",
   "metadata": {},
   "source": [
    "```R\n",
    "for(i in 1:numdays)\n",
    "    if (airquality$Ozone[i] > 60) goodair[i] = 0 else goodair[i] = 1\n",
    "        ```\n",
    "##(Notice that we have an if statement here within a for loop.)"
   ]
  },
  {
   "cell_type": "code",
   "execution_count": 172,
   "metadata": {
    "collapsed": false
   },
   "outputs": [
    {
     "data": {
      "text/html": [
       "<ol class=list-inline>\n",
       "\t<li>41</li>\n",
       "\t<li>36</li>\n",
       "\t<li>12</li>\n",
       "\t<li>18</li>\n",
       "\t<li>NA</li>\n",
       "\t<li>28</li>\n",
       "\t<li>23</li>\n",
       "\t<li>19</li>\n",
       "\t<li>8</li>\n",
       "\t<li>NA</li>\n",
       "\t<li>7</li>\n",
       "\t<li>16</li>\n",
       "\t<li>11</li>\n",
       "\t<li>14</li>\n",
       "\t<li>18</li>\n",
       "\t<li>14</li>\n",
       "\t<li>34</li>\n",
       "\t<li>6</li>\n",
       "\t<li>30</li>\n",
       "\t<li>11</li>\n",
       "\t<li>1</li>\n",
       "\t<li>11</li>\n",
       "\t<li>4</li>\n",
       "\t<li>32</li>\n",
       "\t<li>NA</li>\n",
       "\t<li>NA</li>\n",
       "\t<li>NA</li>\n",
       "\t<li>23</li>\n",
       "\t<li>45</li>\n",
       "\t<li>115</li>\n",
       "\t<li>37</li>\n",
       "\t<li>NA</li>\n",
       "\t<li>NA</li>\n",
       "\t<li>NA</li>\n",
       "\t<li>NA</li>\n",
       "\t<li>NA</li>\n",
       "\t<li>NA</li>\n",
       "\t<li>29</li>\n",
       "\t<li>NA</li>\n",
       "\t<li>71</li>\n",
       "\t<li>39</li>\n",
       "\t<li>NA</li>\n",
       "\t<li>NA</li>\n",
       "\t<li>23</li>\n",
       "\t<li>NA</li>\n",
       "\t<li>NA</li>\n",
       "\t<li>21</li>\n",
       "\t<li>37</li>\n",
       "\t<li>20</li>\n",
       "\t<li>12</li>\n",
       "\t<li>13</li>\n",
       "\t<li>NA</li>\n",
       "\t<li>NA</li>\n",
       "\t<li>NA</li>\n",
       "\t<li>NA</li>\n",
       "\t<li>NA</li>\n",
       "\t<li>NA</li>\n",
       "\t<li>NA</li>\n",
       "\t<li>NA</li>\n",
       "\t<li>NA</li>\n",
       "\t<li>NA</li>\n",
       "\t<li>135</li>\n",
       "\t<li>49</li>\n",
       "\t<li>32</li>\n",
       "\t<li>NA</li>\n",
       "\t<li>64</li>\n",
       "\t<li>40</li>\n",
       "\t<li>77</li>\n",
       "\t<li>97</li>\n",
       "\t<li>97</li>\n",
       "\t<li>85</li>\n",
       "\t<li>NA</li>\n",
       "\t<li>10</li>\n",
       "\t<li>27</li>\n",
       "\t<li>NA</li>\n",
       "\t<li>7</li>\n",
       "\t<li>48</li>\n",
       "\t<li>35</li>\n",
       "\t<li>61</li>\n",
       "\t<li>79</li>\n",
       "\t<li>63</li>\n",
       "\t<li>16</li>\n",
       "\t<li>NA</li>\n",
       "\t<li>NA</li>\n",
       "\t<li>80</li>\n",
       "\t<li>108</li>\n",
       "\t<li>20</li>\n",
       "\t<li>52</li>\n",
       "\t<li>82</li>\n",
       "\t<li>50</li>\n",
       "\t<li>64</li>\n",
       "\t<li>59</li>\n",
       "\t<li>39</li>\n",
       "\t<li>9</li>\n",
       "\t<li>16</li>\n",
       "\t<li>78</li>\n",
       "\t<li>35</li>\n",
       "\t<li>66</li>\n",
       "\t<li>122</li>\n",
       "\t<li>89</li>\n",
       "\t<li>110</li>\n",
       "\t<li>NA</li>\n",
       "\t<li>NA</li>\n",
       "\t<li>44</li>\n",
       "\t<li>28</li>\n",
       "\t<li>65</li>\n",
       "\t<li>NA</li>\n",
       "\t<li>22</li>\n",
       "\t<li>59</li>\n",
       "\t<li>23</li>\n",
       "\t<li>31</li>\n",
       "\t<li>44</li>\n",
       "\t<li>21</li>\n",
       "\t<li>9</li>\n",
       "\t<li>NA</li>\n",
       "\t<li>45</li>\n",
       "\t<li>168</li>\n",
       "\t<li>73</li>\n",
       "\t<li>NA</li>\n",
       "\t<li>76</li>\n",
       "\t<li>118</li>\n",
       "\t<li>84</li>\n",
       "\t<li>85</li>\n",
       "\t<li>96</li>\n",
       "\t<li>78</li>\n",
       "\t<li>73</li>\n",
       "\t<li>91</li>\n",
       "\t<li>47</li>\n",
       "\t<li>32</li>\n",
       "\t<li>20</li>\n",
       "\t<li>23</li>\n",
       "\t<li>21</li>\n",
       "\t<li>24</li>\n",
       "\t<li>44</li>\n",
       "\t<li>21</li>\n",
       "\t<li>28</li>\n",
       "\t<li>9</li>\n",
       "\t<li>13</li>\n",
       "\t<li>46</li>\n",
       "\t<li>18</li>\n",
       "\t<li>13</li>\n",
       "\t<li>24</li>\n",
       "\t<li>16</li>\n",
       "\t<li>13</li>\n",
       "\t<li>23</li>\n",
       "\t<li>36</li>\n",
       "\t<li>7</li>\n",
       "\t<li>14</li>\n",
       "\t<li>30</li>\n",
       "\t<li>NA</li>\n",
       "\t<li>14</li>\n",
       "\t<li>18</li>\n",
       "\t<li>20</li>\n",
       "</ol>\n"
      ],
      "text/latex": [
       "\\begin{enumerate*}\n",
       "\\item 41\n",
       "\\item 36\n",
       "\\item 12\n",
       "\\item 18\n",
       "\\item NA\n",
       "\\item 28\n",
       "\\item 23\n",
       "\\item 19\n",
       "\\item 8\n",
       "\\item NA\n",
       "\\item 7\n",
       "\\item 16\n",
       "\\item 11\n",
       "\\item 14\n",
       "\\item 18\n",
       "\\item 14\n",
       "\\item 34\n",
       "\\item 6\n",
       "\\item 30\n",
       "\\item 11\n",
       "\\item 1\n",
       "\\item 11\n",
       "\\item 4\n",
       "\\item 32\n",
       "\\item NA\n",
       "\\item NA\n",
       "\\item NA\n",
       "\\item 23\n",
       "\\item 45\n",
       "\\item 115\n",
       "\\item 37\n",
       "\\item NA\n",
       "\\item NA\n",
       "\\item NA\n",
       "\\item NA\n",
       "\\item NA\n",
       "\\item NA\n",
       "\\item 29\n",
       "\\item NA\n",
       "\\item 71\n",
       "\\item 39\n",
       "\\item NA\n",
       "\\item NA\n",
       "\\item 23\n",
       "\\item NA\n",
       "\\item NA\n",
       "\\item 21\n",
       "\\item 37\n",
       "\\item 20\n",
       "\\item 12\n",
       "\\item 13\n",
       "\\item NA\n",
       "\\item NA\n",
       "\\item NA\n",
       "\\item NA\n",
       "\\item NA\n",
       "\\item NA\n",
       "\\item NA\n",
       "\\item NA\n",
       "\\item NA\n",
       "\\item NA\n",
       "\\item 135\n",
       "\\item 49\n",
       "\\item 32\n",
       "\\item NA\n",
       "\\item 64\n",
       "\\item 40\n",
       "\\item 77\n",
       "\\item 97\n",
       "\\item 97\n",
       "\\item 85\n",
       "\\item NA\n",
       "\\item 10\n",
       "\\item 27\n",
       "\\item NA\n",
       "\\item 7\n",
       "\\item 48\n",
       "\\item 35\n",
       "\\item 61\n",
       "\\item 79\n",
       "\\item 63\n",
       "\\item 16\n",
       "\\item NA\n",
       "\\item NA\n",
       "\\item 80\n",
       "\\item 108\n",
       "\\item 20\n",
       "\\item 52\n",
       "\\item 82\n",
       "\\item 50\n",
       "\\item 64\n",
       "\\item 59\n",
       "\\item 39\n",
       "\\item 9\n",
       "\\item 16\n",
       "\\item 78\n",
       "\\item 35\n",
       "\\item 66\n",
       "\\item 122\n",
       "\\item 89\n",
       "\\item 110\n",
       "\\item NA\n",
       "\\item NA\n",
       "\\item 44\n",
       "\\item 28\n",
       "\\item 65\n",
       "\\item NA\n",
       "\\item 22\n",
       "\\item 59\n",
       "\\item 23\n",
       "\\item 31\n",
       "\\item 44\n",
       "\\item 21\n",
       "\\item 9\n",
       "\\item NA\n",
       "\\item 45\n",
       "\\item 168\n",
       "\\item 73\n",
       "\\item NA\n",
       "\\item 76\n",
       "\\item 118\n",
       "\\item 84\n",
       "\\item 85\n",
       "\\item 96\n",
       "\\item 78\n",
       "\\item 73\n",
       "\\item 91\n",
       "\\item 47\n",
       "\\item 32\n",
       "\\item 20\n",
       "\\item 23\n",
       "\\item 21\n",
       "\\item 24\n",
       "\\item 44\n",
       "\\item 21\n",
       "\\item 28\n",
       "\\item 9\n",
       "\\item 13\n",
       "\\item 46\n",
       "\\item 18\n",
       "\\item 13\n",
       "\\item 24\n",
       "\\item 16\n",
       "\\item 13\n",
       "\\item 23\n",
       "\\item 36\n",
       "\\item 7\n",
       "\\item 14\n",
       "\\item 30\n",
       "\\item NA\n",
       "\\item 14\n",
       "\\item 18\n",
       "\\item 20\n",
       "\\end{enumerate*}\n"
      ],
      "text/markdown": [
       "1. 41\n",
       "2. 36\n",
       "3. 12\n",
       "4. 18\n",
       "5. NA\n",
       "6. 28\n",
       "7. 23\n",
       "8. 19\n",
       "9. 8\n",
       "10. NA\n",
       "11. 7\n",
       "12. 16\n",
       "13. 11\n",
       "14. 14\n",
       "15. 18\n",
       "16. 14\n",
       "17. 34\n",
       "18. 6\n",
       "19. 30\n",
       "20. 11\n",
       "21. 1\n",
       "22. 11\n",
       "23. 4\n",
       "24. 32\n",
       "25. NA\n",
       "26. NA\n",
       "27. NA\n",
       "28. 23\n",
       "29. 45\n",
       "30. 115\n",
       "31. 37\n",
       "32. NA\n",
       "33. NA\n",
       "34. NA\n",
       "35. NA\n",
       "36. NA\n",
       "37. NA\n",
       "38. 29\n",
       "39. NA\n",
       "40. 71\n",
       "41. 39\n",
       "42. NA\n",
       "43. NA\n",
       "44. 23\n",
       "45. NA\n",
       "46. NA\n",
       "47. 21\n",
       "48. 37\n",
       "49. 20\n",
       "50. 12\n",
       "51. 13\n",
       "52. NA\n",
       "53. NA\n",
       "54. NA\n",
       "55. NA\n",
       "56. NA\n",
       "57. NA\n",
       "58. NA\n",
       "59. NA\n",
       "60. NA\n",
       "61. NA\n",
       "62. 135\n",
       "63. 49\n",
       "64. 32\n",
       "65. NA\n",
       "66. 64\n",
       "67. 40\n",
       "68. 77\n",
       "69. 97\n",
       "70. 97\n",
       "71. 85\n",
       "72. NA\n",
       "73. 10\n",
       "74. 27\n",
       "75. NA\n",
       "76. 7\n",
       "77. 48\n",
       "78. 35\n",
       "79. 61\n",
       "80. 79\n",
       "81. 63\n",
       "82. 16\n",
       "83. NA\n",
       "84. NA\n",
       "85. 80\n",
       "86. 108\n",
       "87. 20\n",
       "88. 52\n",
       "89. 82\n",
       "90. 50\n",
       "91. 64\n",
       "92. 59\n",
       "93. 39\n",
       "94. 9\n",
       "95. 16\n",
       "96. 78\n",
       "97. 35\n",
       "98. 66\n",
       "99. 122\n",
       "100. 89\n",
       "101. 110\n",
       "102. NA\n",
       "103. NA\n",
       "104. 44\n",
       "105. 28\n",
       "106. 65\n",
       "107. NA\n",
       "108. 22\n",
       "109. 59\n",
       "110. 23\n",
       "111. 31\n",
       "112. 44\n",
       "113. 21\n",
       "114. 9\n",
       "115. NA\n",
       "116. 45\n",
       "117. 168\n",
       "118. 73\n",
       "119. NA\n",
       "120. 76\n",
       "121. 118\n",
       "122. 84\n",
       "123. 85\n",
       "124. 96\n",
       "125. 78\n",
       "126. 73\n",
       "127. 91\n",
       "128. 47\n",
       "129. 32\n",
       "130. 20\n",
       "131. 23\n",
       "132. 21\n",
       "133. 24\n",
       "134. 44\n",
       "135. 21\n",
       "136. 28\n",
       "137. 9\n",
       "138. 13\n",
       "139. 46\n",
       "140. 18\n",
       "141. 13\n",
       "142. 24\n",
       "143. 16\n",
       "144. 13\n",
       "145. 23\n",
       "146. 36\n",
       "147. 7\n",
       "148. 14\n",
       "149. 30\n",
       "150. NA\n",
       "151. 14\n",
       "152. 18\n",
       "153. 20\n",
       "\n",
       "\n"
      ],
      "text/plain": [
       "  [1]  41  36  12  18  NA  28  23  19   8  NA   7  16  11  14  18  14  34   6\n",
       " [19]  30  11   1  11   4  32  NA  NA  NA  23  45 115  37  NA  NA  NA  NA  NA\n",
       " [37]  NA  29  NA  71  39  NA  NA  23  NA  NA  21  37  20  12  13  NA  NA  NA\n",
       " [55]  NA  NA  NA  NA  NA  NA  NA 135  49  32  NA  64  40  77  97  97  85  NA\n",
       " [73]  10  27  NA   7  48  35  61  79  63  16  NA  NA  80 108  20  52  82  50\n",
       " [91]  64  59  39   9  16  78  35  66 122  89 110  NA  NA  44  28  65  NA  22\n",
       "[109]  59  23  31  44  21   9  NA  45 168  73  NA  76 118  84  85  96  78  73\n",
       "[127]  91  47  32  20  23  21  24  44  21  28   9  13  46  18  13  24  16  13\n",
       "[145]  23  36   7  14  30  NA  14  18  20"
      ]
     },
     "metadata": {},
     "output_type": "display_data"
    }
   ],
   "source": [
    "#Does the command above work? Why/why not?\n",
    "#Let's check the Ozone variable. What do you notice below?\n",
    "airquality$Ozone"
   ]
  },
  {
   "cell_type": "code",
   "execution_count": 173,
   "metadata": {
    "collapsed": true
   },
   "outputs": [],
   "source": [
    "# When there are missing values, many operations in R fail. One way to get around\n",
    "# this is to create a new data frame that deletes all the rows corresponding to\n",
    "# observations with missing rows. This can be done by means of the command\n",
    "# 'na.omit'\n",
    "airqualfull = na.omit(airquality)"
   ]
  },
  {
   "cell_type": "code",
   "execution_count": 174,
   "metadata": {
    "collapsed": false
   },
   "outputs": [
    {
     "data": {
      "text/html": [
       "<ol class=list-inline>\n",
       "\t<li>111</li>\n",
       "\t<li>6</li>\n",
       "</ol>\n"
      ],
      "text/latex": [
       "\\begin{enumerate*}\n",
       "\\item 111\n",
       "\\item 6\n",
       "\\end{enumerate*}\n"
      ],
      "text/markdown": [
       "1. 111\n",
       "2. 6\n",
       "\n",
       "\n"
      ],
      "text/plain": [
       "[1] 111   6"
      ]
     },
     "metadata": {},
     "output_type": "display_data"
    },
    {
     "data": {
      "text/html": [
       "<ol class=list-inline>\n",
       "\t<li>153</li>\n",
       "\t<li>6</li>\n",
       "</ol>\n"
      ],
      "text/latex": [
       "\\begin{enumerate*}\n",
       "\\item 153\n",
       "\\item 6\n",
       "\\end{enumerate*}\n"
      ],
      "text/markdown": [
       "1. 153\n",
       "2. 6\n",
       "\n",
       "\n"
      ],
      "text/plain": [
       "[1] 153   6"
      ]
     },
     "metadata": {},
     "output_type": "display_data"
    }
   ],
   "source": [
    "dim(airqualfull)\n",
    "dim(airquality)  "
   ]
  },
  {
   "cell_type": "code",
   "execution_count": 175,
   "metadata": {
    "collapsed": false
   },
   "outputs": [
    {
     "data": {
      "text/html": [
       "111"
      ],
      "text/latex": [
       "111"
      ],
      "text/markdown": [
       "111"
      ],
      "text/plain": [
       "[1] 111"
      ]
     },
     "metadata": {},
     "output_type": "display_data"
    },
    {
     "name": "stdout",
     "output_type": "stream",
     "text": [
      "[1] 111\n"
     ]
    }
   ],
   "source": [
    "#Now let's try doing this again with the data with the complete cases.\n",
    "numdays = nrow(airqualfull)\n",
    "numdays\n",
    "print(numdays)\n"
   ]
  },
  {
   "cell_type": "code",
   "execution_count": 176,
   "metadata": {
    "collapsed": true
   },
   "outputs": [],
   "source": [
    "goodair = numeric(numdays)       # initialize the vector"
   ]
  },
  {
   "cell_type": "code",
   "execution_count": 177,
   "metadata": {
    "collapsed": true
   },
   "outputs": [],
   "source": [
    "for(i in 1:numdays)\n",
    "\n",
    "    if (airqualfull$Ozone[i] >60) goodair[i] = 0 else goodair[i] = 1"
   ]
  },
  {
   "cell_type": "code",
   "execution_count": 178,
   "metadata": {
    "collapsed": false
   },
   "outputs": [
    {
     "data": {
      "text/html": [
       "<ol class=list-inline>\n",
       "\t<li>1</li>\n",
       "\t<li>1</li>\n",
       "\t<li>1</li>\n",
       "\t<li>1</li>\n",
       "\t<li>1</li>\n",
       "\t<li>1</li>\n",
       "\t<li>1</li>\n",
       "\t<li>1</li>\n",
       "\t<li>1</li>\n",
       "\t<li>1</li>\n",
       "\t<li>1</li>\n",
       "\t<li>1</li>\n",
       "\t<li>1</li>\n",
       "\t<li>1</li>\n",
       "\t<li>1</li>\n",
       "\t<li>1</li>\n",
       "\t<li>1</li>\n",
       "\t<li>1</li>\n",
       "\t<li>1</li>\n",
       "\t<li>1</li>\n",
       "\t<li>1</li>\n",
       "\t<li>1</li>\n",
       "\t<li>0</li>\n",
       "\t<li>1</li>\n",
       "\t<li>1</li>\n",
       "\t<li>0</li>\n",
       "\t<li>1</li>\n",
       "\t<li>1</li>\n",
       "\t<li>1</li>\n",
       "\t<li>1</li>\n",
       "\t<li>1</li>\n",
       "\t<li>1</li>\n",
       "\t<li>1</li>\n",
       "\t<li>0</li>\n",
       "\t<li>1</li>\n",
       "\t<li>1</li>\n",
       "\t<li>0</li>\n",
       "\t<li>1</li>\n",
       "\t<li>0</li>\n",
       "\t<li>0</li>\n",
       "\t<li>0</li>\n",
       "\t<li>0</li>\n",
       "\t<li>1</li>\n",
       "\t<li>1</li>\n",
       "\t<li>1</li>\n",
       "\t<li>1</li>\n",
       "\t<li>1</li>\n",
       "\t<li>0</li>\n",
       "\t<li>0</li>\n",
       "\t<li>0</li>\n",
       "\t<li>1</li>\n",
       "\t<li>0</li>\n",
       "\t<li>0</li>\n",
       "\t<li>1</li>\n",
       "\t<li>1</li>\n",
       "\t<li>0</li>\n",
       "\t<li>1</li>\n",
       "\t<li>0</li>\n",
       "\t<li>1</li>\n",
       "\t<li>1</li>\n",
       "\t<li>1</li>\n",
       "\t<li>1</li>\n",
       "\t<li>0</li>\n",
       "\t<li>0</li>\n",
       "\t<li>0</li>\n",
       "\t<li>1</li>\n",
       "\t<li>1</li>\n",
       "\t<li>0</li>\n",
       "\t<li>1</li>\n",
       "\t<li>1</li>\n",
       "\t<li>1</li>\n",
       "\t<li>1</li>\n",
       "\t<li>1</li>\n",
       "\t<li>1</li>\n",
       "\t<li>1</li>\n",
       "\t<li>1</li>\n",
       "\t<li>0</li>\n",
       "\t<li>0</li>\n",
       "\t<li>0</li>\n",
       "\t<li>0</li>\n",
       "\t<li>0</li>\n",
       "\t<li>0</li>\n",
       "\t<li>0</li>\n",
       "\t<li>0</li>\n",
       "\t<li>0</li>\n",
       "\t<li>0</li>\n",
       "\t<li>1</li>\n",
       "\t<li>1</li>\n",
       "\t<li>1</li>\n",
       "\t<li>1</li>\n",
       "\t<li>1</li>\n",
       "\t<li>1</li>\n",
       "\t<li>1</li>\n",
       "\t<li>1</li>\n",
       "\t<li>1</li>\n",
       "\t<li>1</li>\n",
       "\t<li>1</li>\n",
       "\t<li>1</li>\n",
       "\t<li>1</li>\n",
       "\t<li>1</li>\n",
       "\t<li>1</li>\n",
       "\t<li>1</li>\n",
       "\t<li>1</li>\n",
       "\t<li>1</li>\n",
       "\t<li>1</li>\n",
       "\t<li>1</li>\n",
       "\t<li>1</li>\n",
       "\t<li>1</li>\n",
       "\t<li>1</li>\n",
       "\t<li>1</li>\n",
       "\t<li>1</li>\n",
       "</ol>\n"
      ],
      "text/latex": [
       "\\begin{enumerate*}\n",
       "\\item 1\n",
       "\\item 1\n",
       "\\item 1\n",
       "\\item 1\n",
       "\\item 1\n",
       "\\item 1\n",
       "\\item 1\n",
       "\\item 1\n",
       "\\item 1\n",
       "\\item 1\n",
       "\\item 1\n",
       "\\item 1\n",
       "\\item 1\n",
       "\\item 1\n",
       "\\item 1\n",
       "\\item 1\n",
       "\\item 1\n",
       "\\item 1\n",
       "\\item 1\n",
       "\\item 1\n",
       "\\item 1\n",
       "\\item 1\n",
       "\\item 0\n",
       "\\item 1\n",
       "\\item 1\n",
       "\\item 0\n",
       "\\item 1\n",
       "\\item 1\n",
       "\\item 1\n",
       "\\item 1\n",
       "\\item 1\n",
       "\\item 1\n",
       "\\item 1\n",
       "\\item 0\n",
       "\\item 1\n",
       "\\item 1\n",
       "\\item 0\n",
       "\\item 1\n",
       "\\item 0\n",
       "\\item 0\n",
       "\\item 0\n",
       "\\item 0\n",
       "\\item 1\n",
       "\\item 1\n",
       "\\item 1\n",
       "\\item 1\n",
       "\\item 1\n",
       "\\item 0\n",
       "\\item 0\n",
       "\\item 0\n",
       "\\item 1\n",
       "\\item 0\n",
       "\\item 0\n",
       "\\item 1\n",
       "\\item 1\n",
       "\\item 0\n",
       "\\item 1\n",
       "\\item 0\n",
       "\\item 1\n",
       "\\item 1\n",
       "\\item 1\n",
       "\\item 1\n",
       "\\item 0\n",
       "\\item 0\n",
       "\\item 0\n",
       "\\item 1\n",
       "\\item 1\n",
       "\\item 0\n",
       "\\item 1\n",
       "\\item 1\n",
       "\\item 1\n",
       "\\item 1\n",
       "\\item 1\n",
       "\\item 1\n",
       "\\item 1\n",
       "\\item 1\n",
       "\\item 0\n",
       "\\item 0\n",
       "\\item 0\n",
       "\\item 0\n",
       "\\item 0\n",
       "\\item 0\n",
       "\\item 0\n",
       "\\item 0\n",
       "\\item 0\n",
       "\\item 0\n",
       "\\item 1\n",
       "\\item 1\n",
       "\\item 1\n",
       "\\item 1\n",
       "\\item 1\n",
       "\\item 1\n",
       "\\item 1\n",
       "\\item 1\n",
       "\\item 1\n",
       "\\item 1\n",
       "\\item 1\n",
       "\\item 1\n",
       "\\item 1\n",
       "\\item 1\n",
       "\\item 1\n",
       "\\item 1\n",
       "\\item 1\n",
       "\\item 1\n",
       "\\item 1\n",
       "\\item 1\n",
       "\\item 1\n",
       "\\item 1\n",
       "\\item 1\n",
       "\\item 1\n",
       "\\item 1\n",
       "\\end{enumerate*}\n"
      ],
      "text/markdown": [
       "1. 1\n",
       "2. 1\n",
       "3. 1\n",
       "4. 1\n",
       "5. 1\n",
       "6. 1\n",
       "7. 1\n",
       "8. 1\n",
       "9. 1\n",
       "10. 1\n",
       "11. 1\n",
       "12. 1\n",
       "13. 1\n",
       "14. 1\n",
       "15. 1\n",
       "16. 1\n",
       "17. 1\n",
       "18. 1\n",
       "19. 1\n",
       "20. 1\n",
       "21. 1\n",
       "22. 1\n",
       "23. 0\n",
       "24. 1\n",
       "25. 1\n",
       "26. 0\n",
       "27. 1\n",
       "28. 1\n",
       "29. 1\n",
       "30. 1\n",
       "31. 1\n",
       "32. 1\n",
       "33. 1\n",
       "34. 0\n",
       "35. 1\n",
       "36. 1\n",
       "37. 0\n",
       "38. 1\n",
       "39. 0\n",
       "40. 0\n",
       "41. 0\n",
       "42. 0\n",
       "43. 1\n",
       "44. 1\n",
       "45. 1\n",
       "46. 1\n",
       "47. 1\n",
       "48. 0\n",
       "49. 0\n",
       "50. 0\n",
       "51. 1\n",
       "52. 0\n",
       "53. 0\n",
       "54. 1\n",
       "55. 1\n",
       "56. 0\n",
       "57. 1\n",
       "58. 0\n",
       "59. 1\n",
       "60. 1\n",
       "61. 1\n",
       "62. 1\n",
       "63. 0\n",
       "64. 0\n",
       "65. 0\n",
       "66. 1\n",
       "67. 1\n",
       "68. 0\n",
       "69. 1\n",
       "70. 1\n",
       "71. 1\n",
       "72. 1\n",
       "73. 1\n",
       "74. 1\n",
       "75. 1\n",
       "76. 1\n",
       "77. 0\n",
       "78. 0\n",
       "79. 0\n",
       "80. 0\n",
       "81. 0\n",
       "82. 0\n",
       "83. 0\n",
       "84. 0\n",
       "85. 0\n",
       "86. 0\n",
       "87. 1\n",
       "88. 1\n",
       "89. 1\n",
       "90. 1\n",
       "91. 1\n",
       "92. 1\n",
       "93. 1\n",
       "94. 1\n",
       "95. 1\n",
       "96. 1\n",
       "97. 1\n",
       "98. 1\n",
       "99. 1\n",
       "100. 1\n",
       "101. 1\n",
       "102. 1\n",
       "103. 1\n",
       "104. 1\n",
       "105. 1\n",
       "106. 1\n",
       "107. 1\n",
       "108. 1\n",
       "109. 1\n",
       "110. 1\n",
       "111. 1\n",
       "\n",
       "\n"
      ],
      "text/plain": [
       "  [1] 1 1 1 1 1 1 1 1 1 1 1 1 1 1 1 1 1 1 1 1 1 1 0 1 1 0 1 1 1 1 1 1 1 0 1 1 0\n",
       " [38] 1 0 0 0 0 1 1 1 1 1 0 0 0 1 0 0 1 1 0 1 0 1 1 1 1 0 0 0 1 1 0 1 1 1 1 1 1\n",
       " [75] 1 1 0 0 0 0 0 0 0 0 0 0 1 1 1 1 1 1 1 1 1 1 1 1 1 1 1 1 1 1 1 1 1 1 1 1 1"
      ]
     },
     "metadata": {},
     "output_type": "display_data"
    }
   ],
   "source": [
    "goodair"
   ]
  },
  {
   "cell_type": "code",
   "execution_count": 179,
   "metadata": {
    "collapsed": false
   },
   "outputs": [
    {
     "data": {
      "text/html": [
       "<ol class=list-inline>\n",
       "\t<li>1</li>\n",
       "\t<li>2</li>\n",
       "\t<li>3</li>\n",
       "\t<li>4</li>\n",
       "\t<li>5</li>\n",
       "\t<li>6</li>\n",
       "\t<li>7</li>\n",
       "\t<li>8</li>\n",
       "\t<li>9</li>\n",
       "\t<li>10</li>\n",
       "\t<li>11</li>\n",
       "\t<li>12</li>\n",
       "\t<li>13</li>\n",
       "\t<li>14</li>\n",
       "\t<li>15</li>\n",
       "\t<li>16</li>\n",
       "\t<li>17</li>\n",
       "\t<li>18</li>\n",
       "\t<li>19</li>\n",
       "\t<li>20</li>\n",
       "\t<li>21</li>\n",
       "\t<li>22</li>\n",
       "\t<li>24</li>\n",
       "\t<li>25</li>\n",
       "\t<li>27</li>\n",
       "\t<li>28</li>\n",
       "\t<li>29</li>\n",
       "\t<li>30</li>\n",
       "\t<li>31</li>\n",
       "\t<li>32</li>\n",
       "\t<li>33</li>\n",
       "\t<li>35</li>\n",
       "\t<li>36</li>\n",
       "\t<li>38</li>\n",
       "\t<li>43</li>\n",
       "\t<li>44</li>\n",
       "\t<li>45</li>\n",
       "\t<li>46</li>\n",
       "\t<li>47</li>\n",
       "\t<li>51</li>\n",
       "\t<li>54</li>\n",
       "\t<li>55</li>\n",
       "\t<li>57</li>\n",
       "\t<li>59</li>\n",
       "\t<li>60</li>\n",
       "\t<li>61</li>\n",
       "\t<li>62</li>\n",
       "\t<li>66</li>\n",
       "\t<li>67</li>\n",
       "\t<li>69</li>\n",
       "\t<li>70</li>\n",
       "\t<li>71</li>\n",
       "\t<li>72</li>\n",
       "\t<li>73</li>\n",
       "\t<li>74</li>\n",
       "\t<li>75</li>\n",
       "\t<li>76</li>\n",
       "\t<li>87</li>\n",
       "\t<li>88</li>\n",
       "\t<li>89</li>\n",
       "\t<li>90</li>\n",
       "\t<li>91</li>\n",
       "\t<li>92</li>\n",
       "\t<li>93</li>\n",
       "\t<li>94</li>\n",
       "\t<li>95</li>\n",
       "\t<li>96</li>\n",
       "\t<li>97</li>\n",
       "\t<li>98</li>\n",
       "\t<li>99</li>\n",
       "\t<li>100</li>\n",
       "\t<li>101</li>\n",
       "\t<li>102</li>\n",
       "\t<li>103</li>\n",
       "\t<li>104</li>\n",
       "\t<li>105</li>\n",
       "\t<li>106</li>\n",
       "\t<li>107</li>\n",
       "\t<li>108</li>\n",
       "\t<li>109</li>\n",
       "\t<li>110</li>\n",
       "\t<li>111</li>\n",
       "</ol>\n"
      ],
      "text/latex": [
       "\\begin{enumerate*}\n",
       "\\item 1\n",
       "\\item 2\n",
       "\\item 3\n",
       "\\item 4\n",
       "\\item 5\n",
       "\\item 6\n",
       "\\item 7\n",
       "\\item 8\n",
       "\\item 9\n",
       "\\item 10\n",
       "\\item 11\n",
       "\\item 12\n",
       "\\item 13\n",
       "\\item 14\n",
       "\\item 15\n",
       "\\item 16\n",
       "\\item 17\n",
       "\\item 18\n",
       "\\item 19\n",
       "\\item 20\n",
       "\\item 21\n",
       "\\item 22\n",
       "\\item 24\n",
       "\\item 25\n",
       "\\item 27\n",
       "\\item 28\n",
       "\\item 29\n",
       "\\item 30\n",
       "\\item 31\n",
       "\\item 32\n",
       "\\item 33\n",
       "\\item 35\n",
       "\\item 36\n",
       "\\item 38\n",
       "\\item 43\n",
       "\\item 44\n",
       "\\item 45\n",
       "\\item 46\n",
       "\\item 47\n",
       "\\item 51\n",
       "\\item 54\n",
       "\\item 55\n",
       "\\item 57\n",
       "\\item 59\n",
       "\\item 60\n",
       "\\item 61\n",
       "\\item 62\n",
       "\\item 66\n",
       "\\item 67\n",
       "\\item 69\n",
       "\\item 70\n",
       "\\item 71\n",
       "\\item 72\n",
       "\\item 73\n",
       "\\item 74\n",
       "\\item 75\n",
       "\\item 76\n",
       "\\item 87\n",
       "\\item 88\n",
       "\\item 89\n",
       "\\item 90\n",
       "\\item 91\n",
       "\\item 92\n",
       "\\item 93\n",
       "\\item 94\n",
       "\\item 95\n",
       "\\item 96\n",
       "\\item 97\n",
       "\\item 98\n",
       "\\item 99\n",
       "\\item 100\n",
       "\\item 101\n",
       "\\item 102\n",
       "\\item 103\n",
       "\\item 104\n",
       "\\item 105\n",
       "\\item 106\n",
       "\\item 107\n",
       "\\item 108\n",
       "\\item 109\n",
       "\\item 110\n",
       "\\item 111\n",
       "\\end{enumerate*}\n"
      ],
      "text/markdown": [
       "1. 1\n",
       "2. 2\n",
       "3. 3\n",
       "4. 4\n",
       "5. 5\n",
       "6. 6\n",
       "7. 7\n",
       "8. 8\n",
       "9. 9\n",
       "10. 10\n",
       "11. 11\n",
       "12. 12\n",
       "13. 13\n",
       "14. 14\n",
       "15. 15\n",
       "16. 16\n",
       "17. 17\n",
       "18. 18\n",
       "19. 19\n",
       "20. 20\n",
       "21. 21\n",
       "22. 22\n",
       "23. 24\n",
       "24. 25\n",
       "25. 27\n",
       "26. 28\n",
       "27. 29\n",
       "28. 30\n",
       "29. 31\n",
       "30. 32\n",
       "31. 33\n",
       "32. 35\n",
       "33. 36\n",
       "34. 38\n",
       "35. 43\n",
       "36. 44\n",
       "37. 45\n",
       "38. 46\n",
       "39. 47\n",
       "40. 51\n",
       "41. 54\n",
       "42. 55\n",
       "43. 57\n",
       "44. 59\n",
       "45. 60\n",
       "46. 61\n",
       "47. 62\n",
       "48. 66\n",
       "49. 67\n",
       "50. 69\n",
       "51. 70\n",
       "52. 71\n",
       "53. 72\n",
       "54. 73\n",
       "55. 74\n",
       "56. 75\n",
       "57. 76\n",
       "58. 87\n",
       "59. 88\n",
       "60. 89\n",
       "61. 90\n",
       "62. 91\n",
       "63. 92\n",
       "64. 93\n",
       "65. 94\n",
       "66. 95\n",
       "67. 96\n",
       "68. 97\n",
       "69. 98\n",
       "70. 99\n",
       "71. 100\n",
       "72. 101\n",
       "73. 102\n",
       "74. 103\n",
       "75. 104\n",
       "76. 105\n",
       "77. 106\n",
       "78. 107\n",
       "79. 108\n",
       "80. 109\n",
       "81. 110\n",
       "82. 111\n",
       "\n",
       "\n"
      ],
      "text/plain": [
       " [1]   1   2   3   4   5   6   7   8   9  10  11  12  13  14  15  16  17  18  19\n",
       "[20]  20  21  22  24  25  27  28  29  30  31  32  33  35  36  38  43  44  45  46\n",
       "[39]  47  51  54  55  57  59  60  61  62  66  67  69  70  71  72  73  74  75  76\n",
       "[58]  87  88  89  90  91  92  93  94  95  96  97  98  99 100 101 102 103 104 105\n",
       "[77] 106 107 108 109 110 111"
      ]
     },
     "metadata": {},
     "output_type": "display_data"
    }
   ],
   "source": [
    "# At this point we might be interested in which days were the ones with good air\n",
    "# quality. The 'which' command returns a set of indices corresponding to the\n",
    "# condition specified. We can then use the indices to find the day of the month\n",
    "# this corresponds to\n",
    "which(goodair == 1)    ## notice the double \"=\" signs!"
   ]
  },
  {
   "cell_type": "code",
   "execution_count": 180,
   "metadata": {
    "collapsed": false,
    "scrolled": true
   },
   "outputs": [
    {
     "data": {
      "text/html": [
       "<table>\n",
       "<thead><tr><th></th><th scope=col>Ozone</th><th scope=col>Solar.R</th><th scope=col>Wind</th><th scope=col>Temp</th><th scope=col>Month</th><th scope=col>Day</th></tr></thead>\n",
       "<tbody>\n",
       "\t<tr><th scope=row>1</th><td>41  </td><td>190 </td><td> 7.4</td><td>67  </td><td>5   </td><td> 1  </td></tr>\n",
       "\t<tr><th scope=row>2</th><td>36  </td><td>118 </td><td> 8.0</td><td>72  </td><td>5   </td><td> 2  </td></tr>\n",
       "\t<tr><th scope=row>3</th><td>12  </td><td>149 </td><td>12.6</td><td>74  </td><td>5   </td><td> 3  </td></tr>\n",
       "\t<tr><th scope=row>4</th><td>18  </td><td>313 </td><td>11.5</td><td>62  </td><td>5   </td><td> 4  </td></tr>\n",
       "\t<tr><th scope=row>7</th><td>23  </td><td>299 </td><td> 8.6</td><td>65  </td><td>5   </td><td> 7  </td></tr>\n",
       "\t<tr><th scope=row>8</th><td>19  </td><td> 99 </td><td>13.8</td><td>59  </td><td>5   </td><td> 8  </td></tr>\n",
       "\t<tr><th scope=row>9</th><td> 8  </td><td> 19 </td><td>20.1</td><td>61  </td><td>5   </td><td> 9  </td></tr>\n",
       "\t<tr><th scope=row>12</th><td>16  </td><td>256 </td><td> 9.7</td><td>69  </td><td>5   </td><td>12  </td></tr>\n",
       "\t<tr><th scope=row>13</th><td>11  </td><td>290 </td><td> 9.2</td><td>66  </td><td>5   </td><td>13  </td></tr>\n",
       "\t<tr><th scope=row>14</th><td>14  </td><td>274 </td><td>10.9</td><td>68  </td><td>5   </td><td>14  </td></tr>\n",
       "\t<tr><th scope=row>15</th><td>18  </td><td> 65 </td><td>13.2</td><td>58  </td><td>5   </td><td>15  </td></tr>\n",
       "\t<tr><th scope=row>16</th><td>14  </td><td>334 </td><td>11.5</td><td>64  </td><td>5   </td><td>16  </td></tr>\n",
       "\t<tr><th scope=row>17</th><td>34  </td><td>307 </td><td>12.0</td><td>66  </td><td>5   </td><td>17  </td></tr>\n",
       "\t<tr><th scope=row>18</th><td> 6  </td><td> 78 </td><td>18.4</td><td>57  </td><td>5   </td><td>18  </td></tr>\n",
       "\t<tr><th scope=row>19</th><td>30  </td><td>322 </td><td>11.5</td><td>68  </td><td>5   </td><td>19  </td></tr>\n",
       "\t<tr><th scope=row>20</th><td>11  </td><td> 44 </td><td> 9.7</td><td>62  </td><td>5   </td><td>20  </td></tr>\n",
       "\t<tr><th scope=row>21</th><td> 1  </td><td>  8 </td><td> 9.7</td><td>59  </td><td>5   </td><td>21  </td></tr>\n",
       "\t<tr><th scope=row>22</th><td>11  </td><td>320 </td><td>16.6</td><td>73  </td><td>5   </td><td>22  </td></tr>\n",
       "\t<tr><th scope=row>23</th><td> 4  </td><td> 25 </td><td> 9.7</td><td>61  </td><td>5   </td><td>23  </td></tr>\n",
       "\t<tr><th scope=row>24</th><td>32  </td><td> 92 </td><td>12.0</td><td>61  </td><td>5   </td><td>24  </td></tr>\n",
       "\t<tr><th scope=row>28</th><td>23  </td><td> 13 </td><td>12.0</td><td>67  </td><td>5   </td><td>28  </td></tr>\n",
       "\t<tr><th scope=row>29</th><td>45  </td><td>252 </td><td>14.9</td><td>81  </td><td>5   </td><td>29  </td></tr>\n",
       "\t<tr><th scope=row>31</th><td>37  </td><td>279 </td><td> 7.4</td><td>76  </td><td>5   </td><td>31  </td></tr>\n",
       "\t<tr><th scope=row>38</th><td>29  </td><td>127 </td><td> 9.7</td><td>82  </td><td>6   </td><td> 7  </td></tr>\n",
       "\t<tr><th scope=row>41</th><td>39  </td><td>323 </td><td>11.5</td><td>87  </td><td>6   </td><td>10  </td></tr>\n",
       "\t<tr><th scope=row>44</th><td>23  </td><td>148 </td><td> 8.0</td><td>82  </td><td>6   </td><td>13  </td></tr>\n",
       "\t<tr><th scope=row>47</th><td>21  </td><td>191 </td><td>14.9</td><td>77  </td><td>6   </td><td>16  </td></tr>\n",
       "\t<tr><th scope=row>48</th><td>37  </td><td>284 </td><td>20.7</td><td>72  </td><td>6   </td><td>17  </td></tr>\n",
       "\t<tr><th scope=row>49</th><td>20  </td><td> 37 </td><td> 9.2</td><td>65  </td><td>6   </td><td>18  </td></tr>\n",
       "\t<tr><th scope=row>50</th><td>12  </td><td>120 </td><td>11.5</td><td>73  </td><td>6   </td><td>19  </td></tr>\n",
       "\t<tr><th scope=row>...</th><td>...</td><td>...</td><td>...</td><td>...</td><td>...</td><td>...</td></tr>\n",
       "\t<tr><th scope=row>111</th><td>31  </td><td>244 </td><td>10.9</td><td>78  </td><td>8   </td><td>19  </td></tr>\n",
       "\t<tr><th scope=row>112</th><td>44  </td><td>190 </td><td>10.3</td><td>78  </td><td>8   </td><td>20  </td></tr>\n",
       "\t<tr><th scope=row>113</th><td>21  </td><td>259 </td><td>15.5</td><td>77  </td><td>8   </td><td>21  </td></tr>\n",
       "\t<tr><th scope=row>114</th><td> 9  </td><td> 36 </td><td>14.3</td><td>72  </td><td>8   </td><td>22  </td></tr>\n",
       "\t<tr><th scope=row>116</th><td>45  </td><td>212 </td><td> 9.7</td><td>79  </td><td>8   </td><td>24  </td></tr>\n",
       "\t<tr><th scope=row>128</th><td>47  </td><td> 95 </td><td> 7.4</td><td>87  </td><td>9   </td><td> 5  </td></tr>\n",
       "\t<tr><th scope=row>129</th><td>32  </td><td> 92 </td><td>15.5</td><td>84  </td><td>9   </td><td> 6  </td></tr>\n",
       "\t<tr><th scope=row>130</th><td>20  </td><td>252 </td><td>10.9</td><td>80  </td><td>9   </td><td> 7  </td></tr>\n",
       "\t<tr><th scope=row>131</th><td>23  </td><td>220 </td><td>10.3</td><td>78  </td><td>9   </td><td> 8  </td></tr>\n",
       "\t<tr><th scope=row>132</th><td>21  </td><td>230 </td><td>10.9</td><td>75  </td><td>9   </td><td> 9  </td></tr>\n",
       "\t<tr><th scope=row>133</th><td>24  </td><td>259 </td><td> 9.7</td><td>73  </td><td>9   </td><td>10  </td></tr>\n",
       "\t<tr><th scope=row>134</th><td>44  </td><td>236 </td><td>14.9</td><td>81  </td><td>9   </td><td>11  </td></tr>\n",
       "\t<tr><th scope=row>135</th><td>21  </td><td>259 </td><td>15.5</td><td>76  </td><td>9   </td><td>12  </td></tr>\n",
       "\t<tr><th scope=row>136</th><td>28  </td><td>238 </td><td> 6.3</td><td>77  </td><td>9   </td><td>13  </td></tr>\n",
       "\t<tr><th scope=row>137</th><td> 9  </td><td> 24 </td><td>10.9</td><td>71  </td><td>9   </td><td>14  </td></tr>\n",
       "\t<tr><th scope=row>138</th><td>13  </td><td>112 </td><td>11.5</td><td>71  </td><td>9   </td><td>15  </td></tr>\n",
       "\t<tr><th scope=row>139</th><td>46  </td><td>237 </td><td> 6.9</td><td>78  </td><td>9   </td><td>16  </td></tr>\n",
       "\t<tr><th scope=row>140</th><td>18  </td><td>224 </td><td>13.8</td><td>67  </td><td>9   </td><td>17  </td></tr>\n",
       "\t<tr><th scope=row>141</th><td>13  </td><td> 27 </td><td>10.3</td><td>76  </td><td>9   </td><td>18  </td></tr>\n",
       "\t<tr><th scope=row>142</th><td>24  </td><td>238 </td><td>10.3</td><td>68  </td><td>9   </td><td>19  </td></tr>\n",
       "\t<tr><th scope=row>143</th><td>16  </td><td>201 </td><td> 8.0</td><td>82  </td><td>9   </td><td>20  </td></tr>\n",
       "\t<tr><th scope=row>144</th><td>13  </td><td>238 </td><td>12.6</td><td>64  </td><td>9   </td><td>21  </td></tr>\n",
       "\t<tr><th scope=row>145</th><td>23  </td><td> 14 </td><td> 9.2</td><td>71  </td><td>9   </td><td>22  </td></tr>\n",
       "\t<tr><th scope=row>146</th><td>36  </td><td>139 </td><td>10.3</td><td>81  </td><td>9   </td><td>23  </td></tr>\n",
       "\t<tr><th scope=row>147</th><td> 7  </td><td> 49 </td><td>10.3</td><td>69  </td><td>9   </td><td>24  </td></tr>\n",
       "\t<tr><th scope=row>148</th><td>14  </td><td> 20 </td><td>16.6</td><td>63  </td><td>9   </td><td>25  </td></tr>\n",
       "\t<tr><th scope=row>149</th><td>30  </td><td>193 </td><td> 6.9</td><td>70  </td><td>9   </td><td>26  </td></tr>\n",
       "\t<tr><th scope=row>151</th><td>14  </td><td>191 </td><td>14.3</td><td>75  </td><td>9   </td><td>28  </td></tr>\n",
       "\t<tr><th scope=row>152</th><td>18  </td><td>131 </td><td> 8.0</td><td>76  </td><td>9   </td><td>29  </td></tr>\n",
       "\t<tr><th scope=row>153</th><td>20  </td><td>223 </td><td>11.5</td><td>68  </td><td>9   </td><td>30  </td></tr>\n",
       "</tbody>\n",
       "</table>\n"
      ],
      "text/latex": [
       "\\begin{tabular}{r|llllll}\n",
       "  & Ozone & Solar.R & Wind & Temp & Month & Day\\\\\n",
       "\\hline\n",
       "\t1 & 41   & 190  &  7.4 & 67   & 5    &  1  \\\\\n",
       "\t2 & 36   & 118  &  8.0 & 72   & 5    &  2  \\\\\n",
       "\t3 & 12   & 149  & 12.6 & 74   & 5    &  3  \\\\\n",
       "\t4 & 18   & 313  & 11.5 & 62   & 5    &  4  \\\\\n",
       "\t7 & 23   & 299  &  8.6 & 65   & 5    &  7  \\\\\n",
       "\t8 & 19   &  99  & 13.8 & 59   & 5    &  8  \\\\\n",
       "\t9 &  8   &  19  & 20.1 & 61   & 5    &  9  \\\\\n",
       "\t12 & 16   & 256  &  9.7 & 69   & 5    & 12  \\\\\n",
       "\t13 & 11   & 290  &  9.2 & 66   & 5    & 13  \\\\\n",
       "\t14 & 14   & 274  & 10.9 & 68   & 5    & 14  \\\\\n",
       "\t15 & 18   &  65  & 13.2 & 58   & 5    & 15  \\\\\n",
       "\t16 & 14   & 334  & 11.5 & 64   & 5    & 16  \\\\\n",
       "\t17 & 34   & 307  & 12.0 & 66   & 5    & 17  \\\\\n",
       "\t18 &  6   &  78  & 18.4 & 57   & 5    & 18  \\\\\n",
       "\t19 & 30   & 322  & 11.5 & 68   & 5    & 19  \\\\\n",
       "\t20 & 11   &  44  &  9.7 & 62   & 5    & 20  \\\\\n",
       "\t21 &  1   &   8  &  9.7 & 59   & 5    & 21  \\\\\n",
       "\t22 & 11   & 320  & 16.6 & 73   & 5    & 22  \\\\\n",
       "\t23 &  4   &  25  &  9.7 & 61   & 5    & 23  \\\\\n",
       "\t24 & 32   &  92  & 12.0 & 61   & 5    & 24  \\\\\n",
       "\t28 & 23   &  13  & 12.0 & 67   & 5    & 28  \\\\\n",
       "\t29 & 45   & 252  & 14.9 & 81   & 5    & 29  \\\\\n",
       "\t31 & 37   & 279  &  7.4 & 76   & 5    & 31  \\\\\n",
       "\t38 & 29   & 127  &  9.7 & 82   & 6    &  7  \\\\\n",
       "\t41 & 39   & 323  & 11.5 & 87   & 6    & 10  \\\\\n",
       "\t44 & 23   & 148  &  8.0 & 82   & 6    & 13  \\\\\n",
       "\t47 & 21   & 191  & 14.9 & 77   & 6    & 16  \\\\\n",
       "\t48 & 37   & 284  & 20.7 & 72   & 6    & 17  \\\\\n",
       "\t49 & 20   &  37  &  9.2 & 65   & 6    & 18  \\\\\n",
       "\t50 & 12   & 120  & 11.5 & 73   & 6    & 19  \\\\\n",
       "\t... & ... & ... & ... & ... & ... & ...\\\\\n",
       "\t111 & 31   & 244  & 10.9 & 78   & 8    & 19  \\\\\n",
       "\t112 & 44   & 190  & 10.3 & 78   & 8    & 20  \\\\\n",
       "\t113 & 21   & 259  & 15.5 & 77   & 8    & 21  \\\\\n",
       "\t114 &  9   &  36  & 14.3 & 72   & 8    & 22  \\\\\n",
       "\t116 & 45   & 212  &  9.7 & 79   & 8    & 24  \\\\\n",
       "\t128 & 47   &  95  &  7.4 & 87   & 9    &  5  \\\\\n",
       "\t129 & 32   &  92  & 15.5 & 84   & 9    &  6  \\\\\n",
       "\t130 & 20   & 252  & 10.9 & 80   & 9    &  7  \\\\\n",
       "\t131 & 23   & 220  & 10.3 & 78   & 9    &  8  \\\\\n",
       "\t132 & 21   & 230  & 10.9 & 75   & 9    &  9  \\\\\n",
       "\t133 & 24   & 259  &  9.7 & 73   & 9    & 10  \\\\\n",
       "\t134 & 44   & 236  & 14.9 & 81   & 9    & 11  \\\\\n",
       "\t135 & 21   & 259  & 15.5 & 76   & 9    & 12  \\\\\n",
       "\t136 & 28   & 238  &  6.3 & 77   & 9    & 13  \\\\\n",
       "\t137 &  9   &  24  & 10.9 & 71   & 9    & 14  \\\\\n",
       "\t138 & 13   & 112  & 11.5 & 71   & 9    & 15  \\\\\n",
       "\t139 & 46   & 237  &  6.9 & 78   & 9    & 16  \\\\\n",
       "\t140 & 18   & 224  & 13.8 & 67   & 9    & 17  \\\\\n",
       "\t141 & 13   &  27  & 10.3 & 76   & 9    & 18  \\\\\n",
       "\t142 & 24   & 238  & 10.3 & 68   & 9    & 19  \\\\\n",
       "\t143 & 16   & 201  &  8.0 & 82   & 9    & 20  \\\\\n",
       "\t144 & 13   & 238  & 12.6 & 64   & 9    & 21  \\\\\n",
       "\t145 & 23   &  14  &  9.2 & 71   & 9    & 22  \\\\\n",
       "\t146 & 36   & 139  & 10.3 & 81   & 9    & 23  \\\\\n",
       "\t147 &  7   &  49  & 10.3 & 69   & 9    & 24  \\\\\n",
       "\t148 & 14   &  20  & 16.6 & 63   & 9    & 25  \\\\\n",
       "\t149 & 30   & 193  &  6.9 & 70   & 9    & 26  \\\\\n",
       "\t151 & 14   & 191  & 14.3 & 75   & 9    & 28  \\\\\n",
       "\t152 & 18   & 131  &  8.0 & 76   & 9    & 29  \\\\\n",
       "\t153 & 20   & 223  & 11.5 & 68   & 9    & 30  \\\\\n",
       "\\end{tabular}\n"
      ],
      "text/markdown": [
       "\n",
       "| <!--/--> | Ozone | Solar.R | Wind | Temp | Month | Day | \n",
       "|---|---|---|---|---|---|---|---|---|---|---|---|---|---|---|---|---|---|---|---|---|---|---|---|---|---|---|---|---|---|---|---|---|---|---|---|---|---|---|---|---|---|---|---|---|---|---|---|---|---|---|---|---|---|---|---|---|---|---|---|---|\n",
       "| 1 | 41   | 190  |  7.4 | 67   | 5    |  1   | \n",
       "| 2 | 36   | 118  |  8.0 | 72   | 5    |  2   | \n",
       "| 3 | 12   | 149  | 12.6 | 74   | 5    |  3   | \n",
       "| 4 | 18   | 313  | 11.5 | 62   | 5    |  4   | \n",
       "| 7 | 23   | 299  |  8.6 | 65   | 5    |  7   | \n",
       "| 8 | 19   |  99  | 13.8 | 59   | 5    |  8   | \n",
       "| 9 |  8   |  19  | 20.1 | 61   | 5    |  9   | \n",
       "| 12 | 16   | 256  |  9.7 | 69   | 5    | 12   | \n",
       "| 13 | 11   | 290  |  9.2 | 66   | 5    | 13   | \n",
       "| 14 | 14   | 274  | 10.9 | 68   | 5    | 14   | \n",
       "| 15 | 18   |  65  | 13.2 | 58   | 5    | 15   | \n",
       "| 16 | 14   | 334  | 11.5 | 64   | 5    | 16   | \n",
       "| 17 | 34   | 307  | 12.0 | 66   | 5    | 17   | \n",
       "| 18 |  6   |  78  | 18.4 | 57   | 5    | 18   | \n",
       "| 19 | 30   | 322  | 11.5 | 68   | 5    | 19   | \n",
       "| 20 | 11   |  44  |  9.7 | 62   | 5    | 20   | \n",
       "| 21 |  1   |   8  |  9.7 | 59   | 5    | 21   | \n",
       "| 22 | 11   | 320  | 16.6 | 73   | 5    | 22   | \n",
       "| 23 |  4   |  25  |  9.7 | 61   | 5    | 23   | \n",
       "| 24 | 32   |  92  | 12.0 | 61   | 5    | 24   | \n",
       "| 28 | 23   |  13  | 12.0 | 67   | 5    | 28   | \n",
       "| 29 | 45   | 252  | 14.9 | 81   | 5    | 29   | \n",
       "| 31 | 37   | 279  |  7.4 | 76   | 5    | 31   | \n",
       "| 38 | 29   | 127  |  9.7 | 82   | 6    |  7   | \n",
       "| 41 | 39   | 323  | 11.5 | 87   | 6    | 10   | \n",
       "| 44 | 23   | 148  |  8.0 | 82   | 6    | 13   | \n",
       "| 47 | 21   | 191  | 14.9 | 77   | 6    | 16   | \n",
       "| 48 | 37   | 284  | 20.7 | 72   | 6    | 17   | \n",
       "| 49 | 20   |  37  |  9.2 | 65   | 6    | 18   | \n",
       "| 50 | 12   | 120  | 11.5 | 73   | 6    | 19   | \n",
       "| ... | ... | ... | ... | ... | ... | ... | \n",
       "| 111 | 31   | 244  | 10.9 | 78   | 8    | 19   | \n",
       "| 112 | 44   | 190  | 10.3 | 78   | 8    | 20   | \n",
       "| 113 | 21   | 259  | 15.5 | 77   | 8    | 21   | \n",
       "| 114 |  9   |  36  | 14.3 | 72   | 8    | 22   | \n",
       "| 116 | 45   | 212  |  9.7 | 79   | 8    | 24   | \n",
       "| 128 | 47   |  95  |  7.4 | 87   | 9    |  5   | \n",
       "| 129 | 32   |  92  | 15.5 | 84   | 9    |  6   | \n",
       "| 130 | 20   | 252  | 10.9 | 80   | 9    |  7   | \n",
       "| 131 | 23   | 220  | 10.3 | 78   | 9    |  8   | \n",
       "| 132 | 21   | 230  | 10.9 | 75   | 9    |  9   | \n",
       "| 133 | 24   | 259  |  9.7 | 73   | 9    | 10   | \n",
       "| 134 | 44   | 236  | 14.9 | 81   | 9    | 11   | \n",
       "| 135 | 21   | 259  | 15.5 | 76   | 9    | 12   | \n",
       "| 136 | 28   | 238  |  6.3 | 77   | 9    | 13   | \n",
       "| 137 |  9   |  24  | 10.9 | 71   | 9    | 14   | \n",
       "| 138 | 13   | 112  | 11.5 | 71   | 9    | 15   | \n",
       "| 139 | 46   | 237  |  6.9 | 78   | 9    | 16   | \n",
       "| 140 | 18   | 224  | 13.8 | 67   | 9    | 17   | \n",
       "| 141 | 13   |  27  | 10.3 | 76   | 9    | 18   | \n",
       "| 142 | 24   | 238  | 10.3 | 68   | 9    | 19   | \n",
       "| 143 | 16   | 201  |  8.0 | 82   | 9    | 20   | \n",
       "| 144 | 13   | 238  | 12.6 | 64   | 9    | 21   | \n",
       "| 145 | 23   |  14  |  9.2 | 71   | 9    | 22   | \n",
       "| 146 | 36   | 139  | 10.3 | 81   | 9    | 23   | \n",
       "| 147 |  7   |  49  | 10.3 | 69   | 9    | 24   | \n",
       "| 148 | 14   |  20  | 16.6 | 63   | 9    | 25   | \n",
       "| 149 | 30   | 193  |  6.9 | 70   | 9    | 26   | \n",
       "| 151 | 14   | 191  | 14.3 | 75   | 9    | 28   | \n",
       "| 152 | 18   | 131  |  8.0 | 76   | 9    | 29   | \n",
       "| 153 | 20   | 223  | 11.5 | 68   | 9    | 30   | \n",
       "\n",
       "\n"
      ],
      "text/plain": [
       "    Ozone Solar.R Wind Temp Month Day\n",
       "1   41    190      7.4 67   5      1 \n",
       "2   36    118      8.0 72   5      2 \n",
       "3   12    149     12.6 74   5      3 \n",
       "4   18    313     11.5 62   5      4 \n",
       "7   23    299      8.6 65   5      7 \n",
       "8   19     99     13.8 59   5      8 \n",
       "9    8     19     20.1 61   5      9 \n",
       "12  16    256      9.7 69   5     12 \n",
       "13  11    290      9.2 66   5     13 \n",
       "14  14    274     10.9 68   5     14 \n",
       "15  18     65     13.2 58   5     15 \n",
       "16  14    334     11.5 64   5     16 \n",
       "17  34    307     12.0 66   5     17 \n",
       "18   6     78     18.4 57   5     18 \n",
       "19  30    322     11.5 68   5     19 \n",
       "20  11     44      9.7 62   5     20 \n",
       "21   1      8      9.7 59   5     21 \n",
       "22  11    320     16.6 73   5     22 \n",
       "23   4     25      9.7 61   5     23 \n",
       "24  32     92     12.0 61   5     24 \n",
       "28  23     13     12.0 67   5     28 \n",
       "29  45    252     14.9 81   5     29 \n",
       "31  37    279      7.4 76   5     31 \n",
       "38  29    127      9.7 82   6      7 \n",
       "41  39    323     11.5 87   6     10 \n",
       "44  23    148      8.0 82   6     13 \n",
       "47  21    191     14.9 77   6     16 \n",
       "48  37    284     20.7 72   6     17 \n",
       "49  20     37      9.2 65   6     18 \n",
       "50  12    120     11.5 73   6     19 \n",
       "... ...   ...     ...  ...  ...   ...\n",
       "111 31    244     10.9 78   8     19 \n",
       "112 44    190     10.3 78   8     20 \n",
       "113 21    259     15.5 77   8     21 \n",
       "114  9     36     14.3 72   8     22 \n",
       "116 45    212      9.7 79   8     24 \n",
       "128 47     95      7.4 87   9      5 \n",
       "129 32     92     15.5 84   9      6 \n",
       "130 20    252     10.9 80   9      7 \n",
       "131 23    220     10.3 78   9      8 \n",
       "132 21    230     10.9 75   9      9 \n",
       "133 24    259      9.7 73   9     10 \n",
       "134 44    236     14.9 81   9     11 \n",
       "135 21    259     15.5 76   9     12 \n",
       "136 28    238      6.3 77   9     13 \n",
       "137  9     24     10.9 71   9     14 \n",
       "138 13    112     11.5 71   9     15 \n",
       "139 46    237      6.9 78   9     16 \n",
       "140 18    224     13.8 67   9     17 \n",
       "141 13     27     10.3 76   9     18 \n",
       "142 24    238     10.3 68   9     19 \n",
       "143 16    201      8.0 82   9     20 \n",
       "144 13    238     12.6 64   9     21 \n",
       "145 23     14      9.2 71   9     22 \n",
       "146 36    139     10.3 81   9     23 \n",
       "147  7     49     10.3 69   9     24 \n",
       "148 14     20     16.6 63   9     25 \n",
       "149 30    193      6.9 70   9     26 \n",
       "151 14    191     14.3 75   9     28 \n",
       "152 18    131      8.0 76   9     29 \n",
       "153 20    223     11.5 68   9     30 "
      ]
     },
     "metadata": {},
     "output_type": "display_data"
    }
   ],
   "source": [
    "goodindices <-  which(goodair == 1)\n",
    "airqualfull[goodindices,] "
   ]
  },
  {
   "cell_type": "markdown",
   "metadata": {},
   "source": [
    "Suppose we want to define a day with good quality air as one with ozone levels below 60ppb, and temperatures less than 80 degrees F. Write an R loop to do this, and output the resulting subset of the data to a file called goodquality.txt. (Hint: use an ifelse() statement inside the for loop.)"
   ]
  },
  {
   "cell_type": "code",
   "execution_count": 181,
   "metadata": {
    "collapsed": false
   },
   "outputs": [
    {
     "data": {
      "text/html": [
       "<ol class=list-inline>\n",
       "\t<li>67</li>\n",
       "\t<li>72</li>\n",
       "\t<li>74</li>\n",
       "\t<li>62</li>\n",
       "\t<li>56</li>\n",
       "\t<li>66</li>\n",
       "\t<li>65</li>\n",
       "\t<li>59</li>\n",
       "\t<li>61</li>\n",
       "\t<li>69</li>\n",
       "\t<li>74</li>\n",
       "\t<li>69</li>\n",
       "\t<li>66</li>\n",
       "\t<li>68</li>\n",
       "\t<li>58</li>\n",
       "\t<li>64</li>\n",
       "\t<li>66</li>\n",
       "\t<li>57</li>\n",
       "\t<li>68</li>\n",
       "\t<li>62</li>\n",
       "\t<li>59</li>\n",
       "\t<li>73</li>\n",
       "\t<li>61</li>\n",
       "\t<li>61</li>\n",
       "\t<li>57</li>\n",
       "\t<li>58</li>\n",
       "\t<li>57</li>\n",
       "\t<li>67</li>\n",
       "\t<li>81</li>\n",
       "\t<li>79</li>\n",
       "\t<li>76</li>\n",
       "\t<li>78</li>\n",
       "\t<li>74</li>\n",
       "\t<li>67</li>\n",
       "\t<li>84</li>\n",
       "\t<li>85</li>\n",
       "\t<li>79</li>\n",
       "\t<li>82</li>\n",
       "\t<li>87</li>\n",
       "\t<li>90</li>\n",
       "\t<li>87</li>\n",
       "\t<li>93</li>\n",
       "\t<li>92</li>\n",
       "\t<li>82</li>\n",
       "\t<li>80</li>\n",
       "\t<li>79</li>\n",
       "\t<li>77</li>\n",
       "\t<li>72</li>\n",
       "\t<li>65</li>\n",
       "\t<li>73</li>\n",
       "\t<li>76</li>\n",
       "\t<li>77</li>\n",
       "\t<li>76</li>\n",
       "\t<li>76</li>\n",
       "\t<li>76</li>\n",
       "\t<li>75</li>\n",
       "\t<li>78</li>\n",
       "\t<li>73</li>\n",
       "\t<li>80</li>\n",
       "\t<li>77</li>\n",
       "\t<li>83</li>\n",
       "\t<li>84</li>\n",
       "\t<li>85</li>\n",
       "\t<li>81</li>\n",
       "\t<li>84</li>\n",
       "\t<li>83</li>\n",
       "\t<li>83</li>\n",
       "\t<li>88</li>\n",
       "\t<li>92</li>\n",
       "\t<li>92</li>\n",
       "\t<li>89</li>\n",
       "\t<li>82</li>\n",
       "\t<li>73</li>\n",
       "\t<li>81</li>\n",
       "\t<li>91</li>\n",
       "\t<li>80</li>\n",
       "\t<li>81</li>\n",
       "\t<li>82</li>\n",
       "\t<li>84</li>\n",
       "\t<li>87</li>\n",
       "\t<li>85</li>\n",
       "\t<li>74</li>\n",
       "\t<li>81</li>\n",
       "\t<li>82</li>\n",
       "\t<li>86</li>\n",
       "\t<li>85</li>\n",
       "\t<li>82</li>\n",
       "\t<li>86</li>\n",
       "\t<li>88</li>\n",
       "\t<li>86</li>\n",
       "\t<li>83</li>\n",
       "\t<li>81</li>\n",
       "\t<li>81</li>\n",
       "\t<li>81</li>\n",
       "\t<li>82</li>\n",
       "\t<li>86</li>\n",
       "\t<li>85</li>\n",
       "\t<li>87</li>\n",
       "\t<li>89</li>\n",
       "\t<li>90</li>\n",
       "\t<li>90</li>\n",
       "\t<li>92</li>\n",
       "\t<li>86</li>\n",
       "\t<li>86</li>\n",
       "\t<li>82</li>\n",
       "\t<li>80</li>\n",
       "\t<li>79</li>\n",
       "\t<li>77</li>\n",
       "\t<li>79</li>\n",
       "\t<li>76</li>\n",
       "\t<li>78</li>\n",
       "\t<li>78</li>\n",
       "\t<li>77</li>\n",
       "\t<li>72</li>\n",
       "\t<li>75</li>\n",
       "\t<li>79</li>\n",
       "\t<li>81</li>\n",
       "\t<li>86</li>\n",
       "\t<li>88</li>\n",
       "\t<li>97</li>\n",
       "\t<li>94</li>\n",
       "\t<li>96</li>\n",
       "\t<li>94</li>\n",
       "\t<li>91</li>\n",
       "\t<li>92</li>\n",
       "\t<li>93</li>\n",
       "\t<li>93</li>\n",
       "\t<li>87</li>\n",
       "\t<li>84</li>\n",
       "\t<li>80</li>\n",
       "\t<li>78</li>\n",
       "\t<li>75</li>\n",
       "\t<li>73</li>\n",
       "\t<li>81</li>\n",
       "\t<li>76</li>\n",
       "\t<li>77</li>\n",
       "\t<li>71</li>\n",
       "\t<li>71</li>\n",
       "\t<li>78</li>\n",
       "\t<li>67</li>\n",
       "\t<li>76</li>\n",
       "\t<li>68</li>\n",
       "\t<li>82</li>\n",
       "\t<li>64</li>\n",
       "\t<li>71</li>\n",
       "\t<li>81</li>\n",
       "\t<li>69</li>\n",
       "\t<li>63</li>\n",
       "\t<li>70</li>\n",
       "\t<li>77</li>\n",
       "\t<li>75</li>\n",
       "\t<li>76</li>\n",
       "\t<li>68</li>\n",
       "</ol>\n"
      ],
      "text/latex": [
       "\\begin{enumerate*}\n",
       "\\item 67\n",
       "\\item 72\n",
       "\\item 74\n",
       "\\item 62\n",
       "\\item 56\n",
       "\\item 66\n",
       "\\item 65\n",
       "\\item 59\n",
       "\\item 61\n",
       "\\item 69\n",
       "\\item 74\n",
       "\\item 69\n",
       "\\item 66\n",
       "\\item 68\n",
       "\\item 58\n",
       "\\item 64\n",
       "\\item 66\n",
       "\\item 57\n",
       "\\item 68\n",
       "\\item 62\n",
       "\\item 59\n",
       "\\item 73\n",
       "\\item 61\n",
       "\\item 61\n",
       "\\item 57\n",
       "\\item 58\n",
       "\\item 57\n",
       "\\item 67\n",
       "\\item 81\n",
       "\\item 79\n",
       "\\item 76\n",
       "\\item 78\n",
       "\\item 74\n",
       "\\item 67\n",
       "\\item 84\n",
       "\\item 85\n",
       "\\item 79\n",
       "\\item 82\n",
       "\\item 87\n",
       "\\item 90\n",
       "\\item 87\n",
       "\\item 93\n",
       "\\item 92\n",
       "\\item 82\n",
       "\\item 80\n",
       "\\item 79\n",
       "\\item 77\n",
       "\\item 72\n",
       "\\item 65\n",
       "\\item 73\n",
       "\\item 76\n",
       "\\item 77\n",
       "\\item 76\n",
       "\\item 76\n",
       "\\item 76\n",
       "\\item 75\n",
       "\\item 78\n",
       "\\item 73\n",
       "\\item 80\n",
       "\\item 77\n",
       "\\item 83\n",
       "\\item 84\n",
       "\\item 85\n",
       "\\item 81\n",
       "\\item 84\n",
       "\\item 83\n",
       "\\item 83\n",
       "\\item 88\n",
       "\\item 92\n",
       "\\item 92\n",
       "\\item 89\n",
       "\\item 82\n",
       "\\item 73\n",
       "\\item 81\n",
       "\\item 91\n",
       "\\item 80\n",
       "\\item 81\n",
       "\\item 82\n",
       "\\item 84\n",
       "\\item 87\n",
       "\\item 85\n",
       "\\item 74\n",
       "\\item 81\n",
       "\\item 82\n",
       "\\item 86\n",
       "\\item 85\n",
       "\\item 82\n",
       "\\item 86\n",
       "\\item 88\n",
       "\\item 86\n",
       "\\item 83\n",
       "\\item 81\n",
       "\\item 81\n",
       "\\item 81\n",
       "\\item 82\n",
       "\\item 86\n",
       "\\item 85\n",
       "\\item 87\n",
       "\\item 89\n",
       "\\item 90\n",
       "\\item 90\n",
       "\\item 92\n",
       "\\item 86\n",
       "\\item 86\n",
       "\\item 82\n",
       "\\item 80\n",
       "\\item 79\n",
       "\\item 77\n",
       "\\item 79\n",
       "\\item 76\n",
       "\\item 78\n",
       "\\item 78\n",
       "\\item 77\n",
       "\\item 72\n",
       "\\item 75\n",
       "\\item 79\n",
       "\\item 81\n",
       "\\item 86\n",
       "\\item 88\n",
       "\\item 97\n",
       "\\item 94\n",
       "\\item 96\n",
       "\\item 94\n",
       "\\item 91\n",
       "\\item 92\n",
       "\\item 93\n",
       "\\item 93\n",
       "\\item 87\n",
       "\\item 84\n",
       "\\item 80\n",
       "\\item 78\n",
       "\\item 75\n",
       "\\item 73\n",
       "\\item 81\n",
       "\\item 76\n",
       "\\item 77\n",
       "\\item 71\n",
       "\\item 71\n",
       "\\item 78\n",
       "\\item 67\n",
       "\\item 76\n",
       "\\item 68\n",
       "\\item 82\n",
       "\\item 64\n",
       "\\item 71\n",
       "\\item 81\n",
       "\\item 69\n",
       "\\item 63\n",
       "\\item 70\n",
       "\\item 77\n",
       "\\item 75\n",
       "\\item 76\n",
       "\\item 68\n",
       "\\end{enumerate*}\n"
      ],
      "text/markdown": [
       "1. 67\n",
       "2. 72\n",
       "3. 74\n",
       "4. 62\n",
       "5. 56\n",
       "6. 66\n",
       "7. 65\n",
       "8. 59\n",
       "9. 61\n",
       "10. 69\n",
       "11. 74\n",
       "12. 69\n",
       "13. 66\n",
       "14. 68\n",
       "15. 58\n",
       "16. 64\n",
       "17. 66\n",
       "18. 57\n",
       "19. 68\n",
       "20. 62\n",
       "21. 59\n",
       "22. 73\n",
       "23. 61\n",
       "24. 61\n",
       "25. 57\n",
       "26. 58\n",
       "27. 57\n",
       "28. 67\n",
       "29. 81\n",
       "30. 79\n",
       "31. 76\n",
       "32. 78\n",
       "33. 74\n",
       "34. 67\n",
       "35. 84\n",
       "36. 85\n",
       "37. 79\n",
       "38. 82\n",
       "39. 87\n",
       "40. 90\n",
       "41. 87\n",
       "42. 93\n",
       "43. 92\n",
       "44. 82\n",
       "45. 80\n",
       "46. 79\n",
       "47. 77\n",
       "48. 72\n",
       "49. 65\n",
       "50. 73\n",
       "51. 76\n",
       "52. 77\n",
       "53. 76\n",
       "54. 76\n",
       "55. 76\n",
       "56. 75\n",
       "57. 78\n",
       "58. 73\n",
       "59. 80\n",
       "60. 77\n",
       "61. 83\n",
       "62. 84\n",
       "63. 85\n",
       "64. 81\n",
       "65. 84\n",
       "66. 83\n",
       "67. 83\n",
       "68. 88\n",
       "69. 92\n",
       "70. 92\n",
       "71. 89\n",
       "72. 82\n",
       "73. 73\n",
       "74. 81\n",
       "75. 91\n",
       "76. 80\n",
       "77. 81\n",
       "78. 82\n",
       "79. 84\n",
       "80. 87\n",
       "81. 85\n",
       "82. 74\n",
       "83. 81\n",
       "84. 82\n",
       "85. 86\n",
       "86. 85\n",
       "87. 82\n",
       "88. 86\n",
       "89. 88\n",
       "90. 86\n",
       "91. 83\n",
       "92. 81\n",
       "93. 81\n",
       "94. 81\n",
       "95. 82\n",
       "96. 86\n",
       "97. 85\n",
       "98. 87\n",
       "99. 89\n",
       "100. 90\n",
       "101. 90\n",
       "102. 92\n",
       "103. 86\n",
       "104. 86\n",
       "105. 82\n",
       "106. 80\n",
       "107. 79\n",
       "108. 77\n",
       "109. 79\n",
       "110. 76\n",
       "111. 78\n",
       "112. 78\n",
       "113. 77\n",
       "114. 72\n",
       "115. 75\n",
       "116. 79\n",
       "117. 81\n",
       "118. 86\n",
       "119. 88\n",
       "120. 97\n",
       "121. 94\n",
       "122. 96\n",
       "123. 94\n",
       "124. 91\n",
       "125. 92\n",
       "126. 93\n",
       "127. 93\n",
       "128. 87\n",
       "129. 84\n",
       "130. 80\n",
       "131. 78\n",
       "132. 75\n",
       "133. 73\n",
       "134. 81\n",
       "135. 76\n",
       "136. 77\n",
       "137. 71\n",
       "138. 71\n",
       "139. 78\n",
       "140. 67\n",
       "141. 76\n",
       "142. 68\n",
       "143. 82\n",
       "144. 64\n",
       "145. 71\n",
       "146. 81\n",
       "147. 69\n",
       "148. 63\n",
       "149. 70\n",
       "150. 77\n",
       "151. 75\n",
       "152. 76\n",
       "153. 68\n",
       "\n",
       "\n"
      ],
      "text/plain": [
       "  [1] 67 72 74 62 56 66 65 59 61 69 74 69 66 68 58 64 66 57 68 62 59 73 61 61 57\n",
       " [26] 58 57 67 81 79 76 78 74 67 84 85 79 82 87 90 87 93 92 82 80 79 77 72 65 73\n",
       " [51] 76 77 76 76 76 75 78 73 80 77 83 84 85 81 84 83 83 88 92 92 89 82 73 81 91\n",
       " [76] 80 81 82 84 87 85 74 81 82 86 85 82 86 88 86 83 81 81 81 82 86 85 87 89 90\n",
       "[101] 90 92 86 86 82 80 79 77 79 76 78 78 77 72 75 79 81 86 88 97 94 96 94 91 92\n",
       "[126] 93 93 87 84 80 78 75 73 81 76 77 71 71 78 67 76 68 82 64 71 81 69 63 70 77\n",
       "[151] 75 76 68"
      ]
     },
     "metadata": {},
     "output_type": "display_data"
    }
   ],
   "source": [
    "airquality$Temp"
   ]
  },
  {
   "cell_type": "markdown",
   "metadata": {},
   "source": [
    "```R\n",
    "for(i in 1:numdays1)\n",
    "ifelse(airquality$Ozone[i] <60 & airquality$Temp<80,goodair1[i] = 1,goodair1[i] = 0)\n",
    "#here it's not working because of \"=\" sign , let's change to different assignment operator <-\n",
    "```"
   ]
  },
  {
   "cell_type": "code",
   "execution_count": 182,
   "metadata": {
    "collapsed": true
   },
   "outputs": [],
   "source": [
    "for(i in 1:numdays)\n",
    "  ifelse(airquality$Ozone[i] <60 && airquality$Temp<80,goodair1[i] <- 1,goodair1[i] <- 0)\n"
   ]
  },
  {
   "cell_type": "code",
   "execution_count": 183,
   "metadata": {
    "collapsed": false
   },
   "outputs": [
    {
     "name": "stdout",
     "output_type": "stream",
     "text": [
      " [1]   1   2   3   4   6   7   8   9  11  12  13  14  15  16  17  18  19  20  21\n",
      "[20]  22  23  24  28  29  31  38  41  44  47  48  49  50  51  63  64  67  73  74\n",
      "[39]  76  77  78  82  87  88  90  92  93  94  95  97 104 105 108 109 110 111 112\n",
      "[58] 113 114 116 128 129 130 131 132 133 134 135 136 137 138 139 140 141 142 143\n",
      "[77] 144 145 146 147 148 149 151 152 153\n"
     ]
    }
   ],
   "source": [
    "goodindices1 <-  which(goodair1 == 1)\n",
    "#airquality[goodindices1,] \n",
    "print(goodindices1)"
   ]
  },
  {
   "cell_type": "code",
   "execution_count": 184,
   "metadata": {
    "collapsed": false
   },
   "outputs": [
    {
     "data": {
      "text/html": [
       "<table>\n",
       "<thead><tr><th></th><th scope=col>Ozone</th><th scope=col>Solar.R</th><th scope=col>Wind</th><th scope=col>Temp</th><th scope=col>Month</th><th scope=col>Day</th></tr></thead>\n",
       "<tbody>\n",
       "\t<tr><th scope=row>1</th><td>41  </td><td>190 </td><td> 7.4</td><td>67  </td><td>5   </td><td> 1  </td></tr>\n",
       "\t<tr><th scope=row>2</th><td>36  </td><td>118 </td><td> 8.0</td><td>72  </td><td>5   </td><td> 2  </td></tr>\n",
       "\t<tr><th scope=row>3</th><td>12  </td><td>149 </td><td>12.6</td><td>74  </td><td>5   </td><td> 3  </td></tr>\n",
       "\t<tr><th scope=row>4</th><td>18  </td><td>313 </td><td>11.5</td><td>62  </td><td>5   </td><td> 4  </td></tr>\n",
       "\t<tr><th scope=row>6</th><td>28  </td><td> NA </td><td>14.9</td><td>66  </td><td>5   </td><td> 6  </td></tr>\n",
       "\t<tr><th scope=row>7</th><td>23  </td><td>299 </td><td> 8.6</td><td>65  </td><td>5   </td><td> 7  </td></tr>\n",
       "\t<tr><th scope=row>8</th><td>19  </td><td> 99 </td><td>13.8</td><td>59  </td><td>5   </td><td> 8  </td></tr>\n",
       "\t<tr><th scope=row>9</th><td> 8  </td><td> 19 </td><td>20.1</td><td>61  </td><td>5   </td><td> 9  </td></tr>\n",
       "\t<tr><th scope=row>11</th><td> 7  </td><td> NA </td><td> 6.9</td><td>74  </td><td>5   </td><td>11  </td></tr>\n",
       "\t<tr><th scope=row>12</th><td>16  </td><td>256 </td><td> 9.7</td><td>69  </td><td>5   </td><td>12  </td></tr>\n",
       "\t<tr><th scope=row>13</th><td>11  </td><td>290 </td><td> 9.2</td><td>66  </td><td>5   </td><td>13  </td></tr>\n",
       "\t<tr><th scope=row>14</th><td>14  </td><td>274 </td><td>10.9</td><td>68  </td><td>5   </td><td>14  </td></tr>\n",
       "\t<tr><th scope=row>15</th><td>18  </td><td> 65 </td><td>13.2</td><td>58  </td><td>5   </td><td>15  </td></tr>\n",
       "\t<tr><th scope=row>16</th><td>14  </td><td>334 </td><td>11.5</td><td>64  </td><td>5   </td><td>16  </td></tr>\n",
       "\t<tr><th scope=row>17</th><td>34  </td><td>307 </td><td>12.0</td><td>66  </td><td>5   </td><td>17  </td></tr>\n",
       "\t<tr><th scope=row>18</th><td> 6  </td><td> 78 </td><td>18.4</td><td>57  </td><td>5   </td><td>18  </td></tr>\n",
       "\t<tr><th scope=row>19</th><td>30  </td><td>322 </td><td>11.5</td><td>68  </td><td>5   </td><td>19  </td></tr>\n",
       "\t<tr><th scope=row>20</th><td>11  </td><td> 44 </td><td> 9.7</td><td>62  </td><td>5   </td><td>20  </td></tr>\n",
       "\t<tr><th scope=row>21</th><td> 1  </td><td>  8 </td><td> 9.7</td><td>59  </td><td>5   </td><td>21  </td></tr>\n",
       "\t<tr><th scope=row>22</th><td>11  </td><td>320 </td><td>16.6</td><td>73  </td><td>5   </td><td>22  </td></tr>\n",
       "\t<tr><th scope=row>23</th><td> 4  </td><td> 25 </td><td> 9.7</td><td>61  </td><td>5   </td><td>23  </td></tr>\n",
       "\t<tr><th scope=row>24</th><td>32  </td><td> 92 </td><td>12.0</td><td>61  </td><td>5   </td><td>24  </td></tr>\n",
       "\t<tr><th scope=row>28</th><td>23  </td><td> 13 </td><td>12.0</td><td>67  </td><td>5   </td><td>28  </td></tr>\n",
       "\t<tr><th scope=row>29</th><td>45  </td><td>252 </td><td>14.9</td><td>81  </td><td>5   </td><td>29  </td></tr>\n",
       "\t<tr><th scope=row>31</th><td>37  </td><td>279 </td><td> 7.4</td><td>76  </td><td>5   </td><td>31  </td></tr>\n",
       "\t<tr><th scope=row>38</th><td>29  </td><td>127 </td><td> 9.7</td><td>82  </td><td>6   </td><td> 7  </td></tr>\n",
       "\t<tr><th scope=row>41</th><td>39  </td><td>323 </td><td>11.5</td><td>87  </td><td>6   </td><td>10  </td></tr>\n",
       "\t<tr><th scope=row>44</th><td>23  </td><td>148 </td><td> 8.0</td><td>82  </td><td>6   </td><td>13  </td></tr>\n",
       "\t<tr><th scope=row>47</th><td>21  </td><td>191 </td><td>14.9</td><td>77  </td><td>6   </td><td>16  </td></tr>\n",
       "\t<tr><th scope=row>48</th><td>37  </td><td>284 </td><td>20.7</td><td>72  </td><td>6   </td><td>17  </td></tr>\n",
       "\t<tr><th scope=row>...</th><td>...</td><td>...</td><td>...</td><td>...</td><td>...</td><td>...</td></tr>\n",
       "\t<tr><th scope=row>111</th><td>31  </td><td>244 </td><td>10.9</td><td>78  </td><td>8   </td><td>19  </td></tr>\n",
       "\t<tr><th scope=row>112</th><td>44  </td><td>190 </td><td>10.3</td><td>78  </td><td>8   </td><td>20  </td></tr>\n",
       "\t<tr><th scope=row>113</th><td>21  </td><td>259 </td><td>15.5</td><td>77  </td><td>8   </td><td>21  </td></tr>\n",
       "\t<tr><th scope=row>114</th><td> 9  </td><td> 36 </td><td>14.3</td><td>72  </td><td>8   </td><td>22  </td></tr>\n",
       "\t<tr><th scope=row>116</th><td>45  </td><td>212 </td><td> 9.7</td><td>79  </td><td>8   </td><td>24  </td></tr>\n",
       "\t<tr><th scope=row>128</th><td>47  </td><td> 95 </td><td> 7.4</td><td>87  </td><td>9   </td><td> 5  </td></tr>\n",
       "\t<tr><th scope=row>129</th><td>32  </td><td> 92 </td><td>15.5</td><td>84  </td><td>9   </td><td> 6  </td></tr>\n",
       "\t<tr><th scope=row>130</th><td>20  </td><td>252 </td><td>10.9</td><td>80  </td><td>9   </td><td> 7  </td></tr>\n",
       "\t<tr><th scope=row>131</th><td>23  </td><td>220 </td><td>10.3</td><td>78  </td><td>9   </td><td> 8  </td></tr>\n",
       "\t<tr><th scope=row>132</th><td>21  </td><td>230 </td><td>10.9</td><td>75  </td><td>9   </td><td> 9  </td></tr>\n",
       "\t<tr><th scope=row>133</th><td>24  </td><td>259 </td><td> 9.7</td><td>73  </td><td>9   </td><td>10  </td></tr>\n",
       "\t<tr><th scope=row>134</th><td>44  </td><td>236 </td><td>14.9</td><td>81  </td><td>9   </td><td>11  </td></tr>\n",
       "\t<tr><th scope=row>135</th><td>21  </td><td>259 </td><td>15.5</td><td>76  </td><td>9   </td><td>12  </td></tr>\n",
       "\t<tr><th scope=row>136</th><td>28  </td><td>238 </td><td> 6.3</td><td>77  </td><td>9   </td><td>13  </td></tr>\n",
       "\t<tr><th scope=row>137</th><td> 9  </td><td> 24 </td><td>10.9</td><td>71  </td><td>9   </td><td>14  </td></tr>\n",
       "\t<tr><th scope=row>138</th><td>13  </td><td>112 </td><td>11.5</td><td>71  </td><td>9   </td><td>15  </td></tr>\n",
       "\t<tr><th scope=row>139</th><td>46  </td><td>237 </td><td> 6.9</td><td>78  </td><td>9   </td><td>16  </td></tr>\n",
       "\t<tr><th scope=row>140</th><td>18  </td><td>224 </td><td>13.8</td><td>67  </td><td>9   </td><td>17  </td></tr>\n",
       "\t<tr><th scope=row>141</th><td>13  </td><td> 27 </td><td>10.3</td><td>76  </td><td>9   </td><td>18  </td></tr>\n",
       "\t<tr><th scope=row>142</th><td>24  </td><td>238 </td><td>10.3</td><td>68  </td><td>9   </td><td>19  </td></tr>\n",
       "\t<tr><th scope=row>143</th><td>16  </td><td>201 </td><td> 8.0</td><td>82  </td><td>9   </td><td>20  </td></tr>\n",
       "\t<tr><th scope=row>144</th><td>13  </td><td>238 </td><td>12.6</td><td>64  </td><td>9   </td><td>21  </td></tr>\n",
       "\t<tr><th scope=row>145</th><td>23  </td><td> 14 </td><td> 9.2</td><td>71  </td><td>9   </td><td>22  </td></tr>\n",
       "\t<tr><th scope=row>146</th><td>36  </td><td>139 </td><td>10.3</td><td>81  </td><td>9   </td><td>23  </td></tr>\n",
       "\t<tr><th scope=row>147</th><td> 7  </td><td> 49 </td><td>10.3</td><td>69  </td><td>9   </td><td>24  </td></tr>\n",
       "\t<tr><th scope=row>148</th><td>14  </td><td> 20 </td><td>16.6</td><td>63  </td><td>9   </td><td>25  </td></tr>\n",
       "\t<tr><th scope=row>149</th><td>30  </td><td>193 </td><td> 6.9</td><td>70  </td><td>9   </td><td>26  </td></tr>\n",
       "\t<tr><th scope=row>151</th><td>14  </td><td>191 </td><td>14.3</td><td>75  </td><td>9   </td><td>28  </td></tr>\n",
       "\t<tr><th scope=row>152</th><td>18  </td><td>131 </td><td> 8.0</td><td>76  </td><td>9   </td><td>29  </td></tr>\n",
       "\t<tr><th scope=row>153</th><td>20  </td><td>223 </td><td>11.5</td><td>68  </td><td>9   </td><td>30  </td></tr>\n",
       "</tbody>\n",
       "</table>\n"
      ],
      "text/latex": [
       "\\begin{tabular}{r|llllll}\n",
       "  & Ozone & Solar.R & Wind & Temp & Month & Day\\\\\n",
       "\\hline\n",
       "\t1 & 41   & 190  &  7.4 & 67   & 5    &  1  \\\\\n",
       "\t2 & 36   & 118  &  8.0 & 72   & 5    &  2  \\\\\n",
       "\t3 & 12   & 149  & 12.6 & 74   & 5    &  3  \\\\\n",
       "\t4 & 18   & 313  & 11.5 & 62   & 5    &  4  \\\\\n",
       "\t6 & 28   &  NA  & 14.9 & 66   & 5    &  6  \\\\\n",
       "\t7 & 23   & 299  &  8.6 & 65   & 5    &  7  \\\\\n",
       "\t8 & 19   &  99  & 13.8 & 59   & 5    &  8  \\\\\n",
       "\t9 &  8   &  19  & 20.1 & 61   & 5    &  9  \\\\\n",
       "\t11 &  7   &  NA  &  6.9 & 74   & 5    & 11  \\\\\n",
       "\t12 & 16   & 256  &  9.7 & 69   & 5    & 12  \\\\\n",
       "\t13 & 11   & 290  &  9.2 & 66   & 5    & 13  \\\\\n",
       "\t14 & 14   & 274  & 10.9 & 68   & 5    & 14  \\\\\n",
       "\t15 & 18   &  65  & 13.2 & 58   & 5    & 15  \\\\\n",
       "\t16 & 14   & 334  & 11.5 & 64   & 5    & 16  \\\\\n",
       "\t17 & 34   & 307  & 12.0 & 66   & 5    & 17  \\\\\n",
       "\t18 &  6   &  78  & 18.4 & 57   & 5    & 18  \\\\\n",
       "\t19 & 30   & 322  & 11.5 & 68   & 5    & 19  \\\\\n",
       "\t20 & 11   &  44  &  9.7 & 62   & 5    & 20  \\\\\n",
       "\t21 &  1   &   8  &  9.7 & 59   & 5    & 21  \\\\\n",
       "\t22 & 11   & 320  & 16.6 & 73   & 5    & 22  \\\\\n",
       "\t23 &  4   &  25  &  9.7 & 61   & 5    & 23  \\\\\n",
       "\t24 & 32   &  92  & 12.0 & 61   & 5    & 24  \\\\\n",
       "\t28 & 23   &  13  & 12.0 & 67   & 5    & 28  \\\\\n",
       "\t29 & 45   & 252  & 14.9 & 81   & 5    & 29  \\\\\n",
       "\t31 & 37   & 279  &  7.4 & 76   & 5    & 31  \\\\\n",
       "\t38 & 29   & 127  &  9.7 & 82   & 6    &  7  \\\\\n",
       "\t41 & 39   & 323  & 11.5 & 87   & 6    & 10  \\\\\n",
       "\t44 & 23   & 148  &  8.0 & 82   & 6    & 13  \\\\\n",
       "\t47 & 21   & 191  & 14.9 & 77   & 6    & 16  \\\\\n",
       "\t48 & 37   & 284  & 20.7 & 72   & 6    & 17  \\\\\n",
       "\t... & ... & ... & ... & ... & ... & ...\\\\\n",
       "\t111 & 31   & 244  & 10.9 & 78   & 8    & 19  \\\\\n",
       "\t112 & 44   & 190  & 10.3 & 78   & 8    & 20  \\\\\n",
       "\t113 & 21   & 259  & 15.5 & 77   & 8    & 21  \\\\\n",
       "\t114 &  9   &  36  & 14.3 & 72   & 8    & 22  \\\\\n",
       "\t116 & 45   & 212  &  9.7 & 79   & 8    & 24  \\\\\n",
       "\t128 & 47   &  95  &  7.4 & 87   & 9    &  5  \\\\\n",
       "\t129 & 32   &  92  & 15.5 & 84   & 9    &  6  \\\\\n",
       "\t130 & 20   & 252  & 10.9 & 80   & 9    &  7  \\\\\n",
       "\t131 & 23   & 220  & 10.3 & 78   & 9    &  8  \\\\\n",
       "\t132 & 21   & 230  & 10.9 & 75   & 9    &  9  \\\\\n",
       "\t133 & 24   & 259  &  9.7 & 73   & 9    & 10  \\\\\n",
       "\t134 & 44   & 236  & 14.9 & 81   & 9    & 11  \\\\\n",
       "\t135 & 21   & 259  & 15.5 & 76   & 9    & 12  \\\\\n",
       "\t136 & 28   & 238  &  6.3 & 77   & 9    & 13  \\\\\n",
       "\t137 &  9   &  24  & 10.9 & 71   & 9    & 14  \\\\\n",
       "\t138 & 13   & 112  & 11.5 & 71   & 9    & 15  \\\\\n",
       "\t139 & 46   & 237  &  6.9 & 78   & 9    & 16  \\\\\n",
       "\t140 & 18   & 224  & 13.8 & 67   & 9    & 17  \\\\\n",
       "\t141 & 13   &  27  & 10.3 & 76   & 9    & 18  \\\\\n",
       "\t142 & 24   & 238  & 10.3 & 68   & 9    & 19  \\\\\n",
       "\t143 & 16   & 201  &  8.0 & 82   & 9    & 20  \\\\\n",
       "\t144 & 13   & 238  & 12.6 & 64   & 9    & 21  \\\\\n",
       "\t145 & 23   &  14  &  9.2 & 71   & 9    & 22  \\\\\n",
       "\t146 & 36   & 139  & 10.3 & 81   & 9    & 23  \\\\\n",
       "\t147 &  7   &  49  & 10.3 & 69   & 9    & 24  \\\\\n",
       "\t148 & 14   &  20  & 16.6 & 63   & 9    & 25  \\\\\n",
       "\t149 & 30   & 193  &  6.9 & 70   & 9    & 26  \\\\\n",
       "\t151 & 14   & 191  & 14.3 & 75   & 9    & 28  \\\\\n",
       "\t152 & 18   & 131  &  8.0 & 76   & 9    & 29  \\\\\n",
       "\t153 & 20   & 223  & 11.5 & 68   & 9    & 30  \\\\\n",
       "\\end{tabular}\n"
      ],
      "text/markdown": [
       "\n",
       "| <!--/--> | Ozone | Solar.R | Wind | Temp | Month | Day | \n",
       "|---|---|---|---|---|---|---|---|---|---|---|---|---|---|---|---|---|---|---|---|---|---|---|---|---|---|---|---|---|---|---|---|---|---|---|---|---|---|---|---|---|---|---|---|---|---|---|---|---|---|---|---|---|---|---|---|---|---|---|---|---|\n",
       "| 1 | 41   | 190  |  7.4 | 67   | 5    |  1   | \n",
       "| 2 | 36   | 118  |  8.0 | 72   | 5    |  2   | \n",
       "| 3 | 12   | 149  | 12.6 | 74   | 5    |  3   | \n",
       "| 4 | 18   | 313  | 11.5 | 62   | 5    |  4   | \n",
       "| 6 | 28   |  NA  | 14.9 | 66   | 5    |  6   | \n",
       "| 7 | 23   | 299  |  8.6 | 65   | 5    |  7   | \n",
       "| 8 | 19   |  99  | 13.8 | 59   | 5    |  8   | \n",
       "| 9 |  8   |  19  | 20.1 | 61   | 5    |  9   | \n",
       "| 11 |  7   |  NA  |  6.9 | 74   | 5    | 11   | \n",
       "| 12 | 16   | 256  |  9.7 | 69   | 5    | 12   | \n",
       "| 13 | 11   | 290  |  9.2 | 66   | 5    | 13   | \n",
       "| 14 | 14   | 274  | 10.9 | 68   | 5    | 14   | \n",
       "| 15 | 18   |  65  | 13.2 | 58   | 5    | 15   | \n",
       "| 16 | 14   | 334  | 11.5 | 64   | 5    | 16   | \n",
       "| 17 | 34   | 307  | 12.0 | 66   | 5    | 17   | \n",
       "| 18 |  6   |  78  | 18.4 | 57   | 5    | 18   | \n",
       "| 19 | 30   | 322  | 11.5 | 68   | 5    | 19   | \n",
       "| 20 | 11   |  44  |  9.7 | 62   | 5    | 20   | \n",
       "| 21 |  1   |   8  |  9.7 | 59   | 5    | 21   | \n",
       "| 22 | 11   | 320  | 16.6 | 73   | 5    | 22   | \n",
       "| 23 |  4   |  25  |  9.7 | 61   | 5    | 23   | \n",
       "| 24 | 32   |  92  | 12.0 | 61   | 5    | 24   | \n",
       "| 28 | 23   |  13  | 12.0 | 67   | 5    | 28   | \n",
       "| 29 | 45   | 252  | 14.9 | 81   | 5    | 29   | \n",
       "| 31 | 37   | 279  |  7.4 | 76   | 5    | 31   | \n",
       "| 38 | 29   | 127  |  9.7 | 82   | 6    |  7   | \n",
       "| 41 | 39   | 323  | 11.5 | 87   | 6    | 10   | \n",
       "| 44 | 23   | 148  |  8.0 | 82   | 6    | 13   | \n",
       "| 47 | 21   | 191  | 14.9 | 77   | 6    | 16   | \n",
       "| 48 | 37   | 284  | 20.7 | 72   | 6    | 17   | \n",
       "| ... | ... | ... | ... | ... | ... | ... | \n",
       "| 111 | 31   | 244  | 10.9 | 78   | 8    | 19   | \n",
       "| 112 | 44   | 190  | 10.3 | 78   | 8    | 20   | \n",
       "| 113 | 21   | 259  | 15.5 | 77   | 8    | 21   | \n",
       "| 114 |  9   |  36  | 14.3 | 72   | 8    | 22   | \n",
       "| 116 | 45   | 212  |  9.7 | 79   | 8    | 24   | \n",
       "| 128 | 47   |  95  |  7.4 | 87   | 9    |  5   | \n",
       "| 129 | 32   |  92  | 15.5 | 84   | 9    |  6   | \n",
       "| 130 | 20   | 252  | 10.9 | 80   | 9    |  7   | \n",
       "| 131 | 23   | 220  | 10.3 | 78   | 9    |  8   | \n",
       "| 132 | 21   | 230  | 10.9 | 75   | 9    |  9   | \n",
       "| 133 | 24   | 259  |  9.7 | 73   | 9    | 10   | \n",
       "| 134 | 44   | 236  | 14.9 | 81   | 9    | 11   | \n",
       "| 135 | 21   | 259  | 15.5 | 76   | 9    | 12   | \n",
       "| 136 | 28   | 238  |  6.3 | 77   | 9    | 13   | \n",
       "| 137 |  9   |  24  | 10.9 | 71   | 9    | 14   | \n",
       "| 138 | 13   | 112  | 11.5 | 71   | 9    | 15   | \n",
       "| 139 | 46   | 237  |  6.9 | 78   | 9    | 16   | \n",
       "| 140 | 18   | 224  | 13.8 | 67   | 9    | 17   | \n",
       "| 141 | 13   |  27  | 10.3 | 76   | 9    | 18   | \n",
       "| 142 | 24   | 238  | 10.3 | 68   | 9    | 19   | \n",
       "| 143 | 16   | 201  |  8.0 | 82   | 9    | 20   | \n",
       "| 144 | 13   | 238  | 12.6 | 64   | 9    | 21   | \n",
       "| 145 | 23   |  14  |  9.2 | 71   | 9    | 22   | \n",
       "| 146 | 36   | 139  | 10.3 | 81   | 9    | 23   | \n",
       "| 147 |  7   |  49  | 10.3 | 69   | 9    | 24   | \n",
       "| 148 | 14   |  20  | 16.6 | 63   | 9    | 25   | \n",
       "| 149 | 30   | 193  |  6.9 | 70   | 9    | 26   | \n",
       "| 151 | 14   | 191  | 14.3 | 75   | 9    | 28   | \n",
       "| 152 | 18   | 131  |  8.0 | 76   | 9    | 29   | \n",
       "| 153 | 20   | 223  | 11.5 | 68   | 9    | 30   | \n",
       "\n",
       "\n"
      ],
      "text/plain": [
       "    Ozone Solar.R Wind Temp Month Day\n",
       "1   41    190      7.4 67   5      1 \n",
       "2   36    118      8.0 72   5      2 \n",
       "3   12    149     12.6 74   5      3 \n",
       "4   18    313     11.5 62   5      4 \n",
       "6   28     NA     14.9 66   5      6 \n",
       "7   23    299      8.6 65   5      7 \n",
       "8   19     99     13.8 59   5      8 \n",
       "9    8     19     20.1 61   5      9 \n",
       "11   7     NA      6.9 74   5     11 \n",
       "12  16    256      9.7 69   5     12 \n",
       "13  11    290      9.2 66   5     13 \n",
       "14  14    274     10.9 68   5     14 \n",
       "15  18     65     13.2 58   5     15 \n",
       "16  14    334     11.5 64   5     16 \n",
       "17  34    307     12.0 66   5     17 \n",
       "18   6     78     18.4 57   5     18 \n",
       "19  30    322     11.5 68   5     19 \n",
       "20  11     44      9.7 62   5     20 \n",
       "21   1      8      9.7 59   5     21 \n",
       "22  11    320     16.6 73   5     22 \n",
       "23   4     25      9.7 61   5     23 \n",
       "24  32     92     12.0 61   5     24 \n",
       "28  23     13     12.0 67   5     28 \n",
       "29  45    252     14.9 81   5     29 \n",
       "31  37    279      7.4 76   5     31 \n",
       "38  29    127      9.7 82   6      7 \n",
       "41  39    323     11.5 87   6     10 \n",
       "44  23    148      8.0 82   6     13 \n",
       "47  21    191     14.9 77   6     16 \n",
       "48  37    284     20.7 72   6     17 \n",
       "... ...   ...     ...  ...  ...   ...\n",
       "111 31    244     10.9 78   8     19 \n",
       "112 44    190     10.3 78   8     20 \n",
       "113 21    259     15.5 77   8     21 \n",
       "114  9     36     14.3 72   8     22 \n",
       "116 45    212      9.7 79   8     24 \n",
       "128 47     95      7.4 87   9      5 \n",
       "129 32     92     15.5 84   9      6 \n",
       "130 20    252     10.9 80   9      7 \n",
       "131 23    220     10.3 78   9      8 \n",
       "132 21    230     10.9 75   9      9 \n",
       "133 24    259      9.7 73   9     10 \n",
       "134 44    236     14.9 81   9     11 \n",
       "135 21    259     15.5 76   9     12 \n",
       "136 28    238      6.3 77   9     13 \n",
       "137  9     24     10.9 71   9     14 \n",
       "138 13    112     11.5 71   9     15 \n",
       "139 46    237      6.9 78   9     16 \n",
       "140 18    224     13.8 67   9     17 \n",
       "141 13     27     10.3 76   9     18 \n",
       "142 24    238     10.3 68   9     19 \n",
       "143 16    201      8.0 82   9     20 \n",
       "144 13    238     12.6 64   9     21 \n",
       "145 23     14      9.2 71   9     22 \n",
       "146 36    139     10.3 81   9     23 \n",
       "147  7     49     10.3 69   9     24 \n",
       "148 14     20     16.6 63   9     25 \n",
       "149 30    193      6.9 70   9     26 \n",
       "151 14    191     14.3 75   9     28 \n",
       "152 18    131      8.0 76   9     29 \n",
       "153 20    223     11.5 68   9     30 "
      ]
     },
     "metadata": {},
     "output_type": "display_data"
    }
   ],
   "source": [
    "airquality[goodindices1,]"
   ]
  },
  {
   "cell_type": "code",
   "execution_count": null,
   "metadata": {
    "collapsed": true
   },
   "outputs": [],
   "source": []
  }
 ],
 "metadata": {
  "anaconda-cloud": {},
  "kernelspec": {
   "display_name": "R [R-Env]",
   "language": "R",
   "name": "R [R-Env]"
  },
  "language_info": {
   "codemirror_mode": "r",
   "file_extension": ".r",
   "mimetype": "text/x-r-source",
   "name": "R",
   "pygments_lexer": "r",
   "version": "3.3.2"
  }
 },
 "nbformat": 4,
 "nbformat_minor": 0
}
